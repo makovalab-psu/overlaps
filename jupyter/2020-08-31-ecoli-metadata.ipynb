{
 "cells": [
  {
   "cell_type": "markdown",
   "metadata": {},
   "source": [
    "# About\n",
    "This notebook was used to investigate properties of the corpus of *E. coli* SRA runs.  \n",
    "It was used to produce Table S1."
   ]
  },
  {
   "cell_type": "markdown",
   "metadata": {},
   "source": [
    "# Prereqs"
   ]
  },
  {
   "cell_type": "code",
   "execution_count": 59,
   "metadata": {},
   "outputs": [],
   "source": [
    "import collections\n",
    "import csv\n",
    "import gzip\n",
    "import pathlib\n",
    "import time\n",
    "import xml.etree.ElementTree"
   ]
  },
  {
   "cell_type": "code",
   "execution_count": 91,
   "metadata": {},
   "outputs": [],
   "source": [
    "from matplotlib import pyplot"
   ]
  },
  {
   "cell_type": "code",
   "execution_count": 92,
   "metadata": {},
   "outputs": [],
   "source": [
    "from html_table import Table, Row, Cell"
   ]
  },
  {
   "cell_type": "code",
   "execution_count": 58,
   "metadata": {},
   "outputs": [],
   "source": [
    "%matplotlib inline"
   ]
  },
  {
   "cell_type": "code",
   "execution_count": 2,
   "metadata": {},
   "outputs": [],
   "source": [
    "MAIN_DIR = pathlib.Path('/nfs/brubeck.bx.psu.edu/scratch5/nick/overlaps/auto/ecoli')\n",
    "CSV_PATH = MAIN_DIR/'sra.runinfo3.csv.gz'\n",
    "XML_PATH = MAIN_DIR/'sra.docsum2.xml.gz'"
   ]
  },
  {
   "cell_type": "markdown",
   "metadata": {},
   "source": [
    "## Reading metadata"
   ]
  },
  {
   "cell_type": "code",
   "execution_count": 3,
   "metadata": {},
   "outputs": [],
   "source": [
    "def read_runinfo(csv_path):\n",
    "  start = time.perf_counter()\n",
    "  int_fields = {'spots', 'spots_with_mates', 'avgLength', 'size_MB', 'InsertSize', 'InsertDev', 'ProjectID', 'TaxID'}\n",
    "  runs = {}\n",
    "  header = {}\n",
    "  empty_lines = 0\n",
    "  header_lines = 0\n",
    "  try:\n",
    "    with gzip.open(csv_path, 'rt') as csv_file:\n",
    "      for row in csv.reader(csv_file):\n",
    "        if not header:\n",
    "          header_lines += 1\n",
    "          for i, value in enumerate(row):\n",
    "            header[i] = value\n",
    "          RunInfo = collections.namedtuple('RunInfo', header.values())\n",
    "          continue\n",
    "        if len(row) == 0:\n",
    "          empty_lines += 1\n",
    "          continue\n",
    "        assert len(row) == len(header), (len(row), row)\n",
    "        header_matches = 0\n",
    "        value_dict = {}\n",
    "        for i, raw_value in enumerate(row):\n",
    "          if raw_value == header[i]:\n",
    "            header_matches += 1\n",
    "          else:\n",
    "            if header[i] in int_fields:\n",
    "              try:\n",
    "                value = int(raw_value)\n",
    "              except ValueError:\n",
    "                if header[i] == 'InsertDev':\n",
    "                  value = float(raw_value)\n",
    "                else:\n",
    "                  print(f'{header[i]}: {raw_value!r}', file=sys.stderr)\n",
    "            else:\n",
    "              value = raw_value\n",
    "          value_dict[header[i]] = value\n",
    "        if header_matches > 5:\n",
    "          header_lines += 1\n",
    "          continue\n",
    "        runs[value_dict['Run']] = RunInfo(**value_dict)\n",
    "  except EOFError:\n",
    "    print('Incomplete gzip.', file=sys.stderr)\n",
    "  elapsed = time.perf_counter() - start\n",
    "  print(f'{len(runs)} runs in {elapsed:0.1f} seconds (headers: {header_lines}, empty lines: {empty_lines})')\n",
    "  return runs"
   ]
  },
  {
   "cell_type": "code",
   "execution_count": 4,
   "metadata": {},
   "outputs": [],
   "source": [
    "def read_xml(xml_path):\n",
    "  start = time.perf_counter()\n",
    "  summaries = {}\n",
    "  with gzip.open(xml_path) as xml_file:\n",
    "    # Note: This takes about 1-2GB of memory.\n",
    "    tree = xml.etree.ElementTree.parse(xml_file)\n",
    "  docsum = tree.getroot()\n",
    "  for exp in docsum:\n",
    "    for run in exp.find('./Runs'):\n",
    "      acc = run.attrib['acc']\n",
    "      summaries[acc] = exp\n",
    "  elapsed = time.perf_counter() - start\n",
    "  print(f'{len(summaries)} experiments in {round(elapsed)} seconds')\n",
    "  return summaries"
   ]
  },
  {
   "cell_type": "code",
   "execution_count": 29,
   "metadata": {},
   "outputs": [],
   "source": [
    "def get_overlap(run, null=None, neg=True):\n",
    "  readlen = run.avgLength//2\n",
    "  if run.InsertSize == 0 or readlen == 0:\n",
    "    return null\n",
    "  overlap = min(readlen, run.InsertSize, readlen*2 - run.InsertSize)\n",
    "  if neg:\n",
    "    return overlap\n",
    "  else:\n",
    "    return max(0, overlap)"
   ]
  },
  {
   "cell_type": "code",
   "execution_count": 5,
   "metadata": {},
   "outputs": [],
   "source": [
    "def rm_prefix(string, prefix):\n",
    "  if string.startswith(prefix):\n",
    "    return string[len(prefix):]\n",
    "  else:\n",
    "    return string"
   ]
  },
  {
   "cell_type": "code",
   "execution_count": 6,
   "metadata": {},
   "outputs": [],
   "source": [
    "def truncate(string, max_len):\n",
    "  if len(string) > max_len:\n",
    "    return string[:max_len-1]+'…'\n",
    "  else:\n",
    "    return string"
   ]
  },
  {
   "cell_type": "markdown",
   "metadata": {},
   "source": [
    "## Read in the metadata"
   ]
  },
  {
   "cell_type": "code",
   "execution_count": 7,
   "metadata": {},
   "outputs": [
    {
     "name": "stdout",
     "output_type": "stream",
     "text": [
      "186022 runs in 11.5 seconds (headers: 1, empty lines: 0)\n"
     ]
    }
   ],
   "source": [
    "RUNS = read_runinfo(CSV_PATH)"
   ]
  },
  {
   "cell_type": "code",
   "execution_count": 8,
   "metadata": {},
   "outputs": [
    {
     "name": "stdout",
     "output_type": "stream",
     "text": [
      "186022 experiments in 43 seconds\n"
     ]
    }
   ],
   "source": [
    "SUMMARIES = read_xml(XML_PATH)"
   ]
  },
  {
   "cell_type": "markdown",
   "metadata": {},
   "source": [
    "## Reading group metadata"
   ]
  },
  {
   "cell_type": "code",
   "execution_count": 26,
   "metadata": {},
   "outputs": [],
   "source": [
    "ABBREVIATIONS = {\n",
    "  'European':'Euro.', 'Nucleotide':'Nuc.', 'Institute':'Inst.', 'Technology':'Tech.', 'The Pennsylvania':'Penn',\n",
    "  'University':'Univ.', 'National':'Nat.', 'Department':'Dept.', 'Technological':'Tech.', 'Laboratory':'Lab.',\n",
    "  'Biotechnology':'Biotech.',\n",
    "}\n",
    "class Study(collections.namedtuple('Study', ('title', 'study', 'center', 'lab', 'contact'))):\n",
    "  __slots__ = ()\n",
    "  @property\n",
    "  def submitter(self):\n",
    "    return (self.center, self.lab, self.contact)\n",
    "  @classmethod\n",
    "  def from_accession(cls, accession, summaries=SUMMARIES):\n",
    "    try:\n",
    "      experiment = summaries[accession]\n",
    "    except KeyError:\n",
    "      sys.stderr.write(f'Warning: Could not find XML summary for {accession}\\n')\n",
    "      raise\n",
    "    return cls.from_experiment(experiment)\n",
    "  @classmethod\n",
    "  def from_experiment(cls, experiment):\n",
    "    data = {'title':None, 'study':None, 'center':None, 'lab':None, 'contact':None}\n",
    "    if not experiment:\n",
    "      return cls(**data)\n",
    "    data['title'] = experiment.find('./ExpXml/Summary/Title').text\n",
    "    study_elem = experiment.find('./ExpXml/Study')\n",
    "    data['study'] = study_elem.attrib.get('name')\n",
    "    subm_elem = experiment.find('./ExpXml/Submitter')\n",
    "    for field in 'center', 'lab', 'contact':\n",
    "      data[field] = subm_elem.attrib.get(field+'_name')\n",
    "    return cls(**data)\n",
    "  def format_fields(self, max_len=None, null='?'):\n",
    "    \"\"\"Return a copy with the fields formatted for human reading.\"\"\"\n",
    "    strs = {}\n",
    "    for field in self._fields:\n",
    "      value = raw_value = getattr(self, field)\n",
    "      if raw_value is None:\n",
    "        value = null\n",
    "      strs[field] = value\n",
    "    # This is a common prefix that's lengthy and not too informative.\n",
    "    strs['title'] = rm_prefix(strs['title'], 'Illumina MiSeq paired end sequencing; ')\n",
    "    for field in 'center', 'lab', 'contact':\n",
    "      value = raw_value = strs[field]\n",
    "      # If it's all uppercase, make it titlecased to be easier to read.\n",
    "      if len(raw_value) > 16 and raw_value == raw_value.upper():\n",
    "        value = raw_value.title()\n",
    "      for long, short in ABBREVIATIONS.items():\n",
    "        value = value.replace(long, short)\n",
    "      strs[field] = value\n",
    "    if max_len is not None:\n",
    "      for field, value in strs.items():\n",
    "        strs[field] = truncate(value, max_len)\n",
    "    return type(self)(**strs)"
   ]
  },
  {
   "cell_type": "markdown",
   "metadata": {},
   "source": [
    "## Reading todo/launched/done lists"
   ]
  },
  {
   "cell_type": "code",
   "execution_count": 9,
   "metadata": {},
   "outputs": [],
   "source": [
    "def read_file_as_list(list_path):\n",
    "  line_list = []\n",
    "  with list_path.open() as list_file:\n",
    "    for line_raw in list_file:\n",
    "      line_list.append(line_raw.strip())\n",
    "  return line_list"
   ]
  },
  {
   "cell_type": "code",
   "execution_count": 10,
   "metadata": {},
   "outputs": [],
   "source": [
    "def subtract_lists(list1: list, *lists) -> list:\n",
    "  \"\"\"Return a copy of `list1` but remove any items present in the other lists.\"\"\"\n",
    "  new_list = []\n",
    "  remove_these: Set[list] = set()\n",
    "  for list2 in lists:\n",
    "    remove_these |= set(list2)\n",
    "  for item in list1:\n",
    "    if item not in remove_these:\n",
    "      new_list.append(item)\n",
    "  return new_list"
   ]
  },
  {
   "cell_type": "markdown",
   "metadata": {},
   "source": [
    "# Platforms"
   ]
  },
  {
   "cell_type": "markdown",
   "metadata": {},
   "source": [
    "## How many runs from each platform?"
   ]
  },
  {
   "cell_type": "code",
   "execution_count": 90,
   "metadata": {},
   "outputs": [
    {
     "data": {
      "text/html": [
       "<table style=\"text-align: left\">\n",
       "  <thead style=\"text-align: left; font-weight: bold\">\n",
       "    <tr style=\"text-align: left\">\n",
       "      <th scope=\"col\" style=\"text-align: left\">Platform</th>\n",
       "      <th scope=\"col\" style=\"text-align: left\">Model</th>\n",
       "      <th scope=\"col\" style=\"text-align: left\">Runs</th>\n",
       "    </tr>\n",
       "  </thead>\n",
       "  <tbody style=\"text-align: left\">\n",
       "    <tr style=\"text-align: left\">\n",
       "      <td style=\"text-align: left\">ILLUMINA</td>\n",
       "      <td style=\"text-align: left\">Illumina NovaSeq 6000</td>\n",
       "      <td style=\"text-align: right\">1375</td>\n",
       "    </tr>\n",
       "    <tr style=\"text-align: left\">\n",
       "      <td style=\"text-align: left\">ILLUMINA</td>\n",
       "      <td style=\"text-align: left\">Illumina HiSeq 2500</td>\n",
       "      <td style=\"text-align: right\">36034</td>\n",
       "    </tr>\n",
       "    <tr style=\"text-align: left\">\n",
       "      <td style=\"text-align: left\">ILLUMINA</td>\n",
       "      <td style=\"text-align: left\">Illumina MiSeq</td>\n",
       "      <td style=\"text-align: right\">75118</td>\n",
       "    </tr>\n",
       "    <tr style=\"text-align: left\">\n",
       "      <td style=\"text-align: left\">ILLUMINA</td>\n",
       "      <td style=\"text-align: left\">Illumina HiSeq 2000</td>\n",
       "      <td style=\"text-align: right\">18483</td>\n",
       "    </tr>\n",
       "    <tr style=\"text-align: left\">\n",
       "      <td style=\"text-align: left\">ILLUMINA</td>\n",
       "      <td style=\"text-align: left\">Illumina HiSeq 4000</td>\n",
       "      <td style=\"text-align: right\">7339</td>\n",
       "    </tr>\n",
       "    <tr style=\"text-align: left\">\n",
       "      <td style=\"text-align: left\">ILLUMINA</td>\n",
       "      <td style=\"text-align: left\">NextSeq 500</td>\n",
       "      <td style=\"text-align: right\">16471</td>\n",
       "    </tr>\n",
       "    <tr style=\"text-align: left\">\n",
       "      <td style=\"text-align: left\">ILLUMINA</td>\n",
       "      <td style=\"text-align: left\">HiSeq X Ten</td>\n",
       "      <td style=\"text-align: right\">16921</td>\n",
       "    </tr>\n",
       "    <tr style=\"text-align: left\">\n",
       "      <td style=\"text-align: left\">ILLUMINA</td>\n",
       "      <td style=\"text-align: left\">Illumina MiniSeq</td>\n",
       "      <td style=\"text-align: right\">237</td>\n",
       "    </tr>\n",
       "    <tr style=\"text-align: left\">\n",
       "      <td style=\"text-align: left\">ILLUMINA</td>\n",
       "      <td style=\"text-align: left\">NextSeq 550</td>\n",
       "      <td style=\"text-align: right\">1107</td>\n",
       "    </tr>\n",
       "    <tr style=\"text-align: left\">\n",
       "      <td style=\"text-align: left\">ILLUMINA</td>\n",
       "      <td style=\"text-align: left\">Illumina HiSeq 3000</td>\n",
       "      <td style=\"text-align: right\">362</td>\n",
       "    </tr>\n",
       "    <tr style=\"text-align: left\">\n",
       "      <td style=\"text-align: left\">ILLUMINA</td>\n",
       "      <td style=\"text-align: left\">Illumina iSeq 100</td>\n",
       "      <td style=\"text-align: right\">14</td>\n",
       "    </tr>\n",
       "    <tr style=\"text-align: left\">\n",
       "      <td style=\"text-align: left\">ILLUMINA</td>\n",
       "      <td style=\"text-align: left\">unspecified</td>\n",
       "      <td style=\"text-align: right\">619</td>\n",
       "    </tr>\n",
       "    <tr style=\"text-align: left\">\n",
       "      <td style=\"text-align: left\">ILLUMINA</td>\n",
       "      <td style=\"text-align: left\">Illumina HiSeq 1000</td>\n",
       "      <td style=\"text-align: right\">291</td>\n",
       "    </tr>\n",
       "    <tr style=\"text-align: left\">\n",
       "      <td style=\"text-align: left\">ILLUMINA</td>\n",
       "      <td style=\"text-align: left\">Illumina HiSeq 1500</td>\n",
       "      <td style=\"text-align: right\">443</td>\n",
       "    </tr>\n",
       "    <tr style=\"text-align: left\">\n",
       "      <td style=\"text-align: left\">ILLUMINA</td>\n",
       "      <td style=\"text-align: left\">Illumina Genome Analyzer II</td>\n",
       "      <td style=\"text-align: right\">839</td>\n",
       "    </tr>\n",
       "    <tr style=\"text-align: left\">\n",
       "      <td style=\"text-align: left\">ILLUMINA</td>\n",
       "      <td style=\"text-align: left\">HiSeq X Five</td>\n",
       "      <td style=\"text-align: right\">560</td>\n",
       "    </tr>\n",
       "    <tr style=\"text-align: left\">\n",
       "      <td style=\"text-align: left\">ILLUMINA</td>\n",
       "      <td style=\"text-align: left\">Illumina Genome Analyzer</td>\n",
       "      <td style=\"text-align: right\">210</td>\n",
       "    </tr>\n",
       "    <tr style=\"text-align: left\">\n",
       "      <td style=\"text-align: left\">ILLUMINA</td>\n",
       "      <td style=\"text-align: left\">Illumina Genome Analyzer IIx</td>\n",
       "      <td style=\"text-align: right\">1582</td>\n",
       "    </tr>\n",
       "    <tr style=\"text-align: left\">\n",
       "      <td style=\"text-align: left\">ILLUMINA</td>\n",
       "      <td style=\"text-align: left\">Illumina HiSeq X Ten</td>\n",
       "      <td style=\"text-align: right\">1257</td>\n",
       "    </tr>\n",
       "    <tr style=\"text-align: left\">\n",
       "      <td style=\"text-align: left\">ILLUMINA</td>\n",
       "      <td style=\"text-align: left\">Illumina HiScanSQ</td>\n",
       "      <td style=\"text-align: right\">44</td>\n",
       "    </tr>\n",
       "    <tr style=\"text-align: left\">\n",
       "      <td style=\"text-align: left\">ILLUMINA</td>\n",
       "      <td style=\"text-align: left\">TOTAL</td>\n",
       "      <td style=\"text-align: right\">179306</td>\n",
       "    </tr>\n",
       "    <tr style=\"text-align: left\">\n",
       "      <td style=\"text-align: left\">OXFORD_NANOPORE</td>\n",
       "      <td style=\"text-align: left\">MinION</td>\n",
       "      <td style=\"text-align: right\">646</td>\n",
       "    </tr>\n",
       "    <tr style=\"text-align: left\">\n",
       "      <td style=\"text-align: left\">OXFORD_NANOPORE</td>\n",
       "      <td style=\"text-align: left\">GridION</td>\n",
       "      <td style=\"text-align: right\">901</td>\n",
       "    </tr>\n",
       "    <tr style=\"text-align: left\">\n",
       "      <td style=\"text-align: left\">OXFORD_NANOPORE</td>\n",
       "      <td style=\"text-align: left\">TOTAL</td>\n",
       "      <td style=\"text-align: right\">1547</td>\n",
       "    </tr>\n",
       "    <tr style=\"text-align: left\">\n",
       "      <td style=\"text-align: left\">PACBIO_SMRT</td>\n",
       "      <td style=\"text-align: left\">PacBio RS II</td>\n",
       "      <td style=\"text-align: right\">564</td>\n",
       "    </tr>\n",
       "    <tr style=\"text-align: left\">\n",
       "      <td style=\"text-align: left\">PACBIO_SMRT</td>\n",
       "      <td style=\"text-align: left\">PacBio RS</td>\n",
       "      <td style=\"text-align: right\">1425</td>\n",
       "    </tr>\n",
       "    <tr style=\"text-align: left\">\n",
       "      <td style=\"text-align: left\">PACBIO_SMRT</td>\n",
       "      <td style=\"text-align: left\">Sequel II</td>\n",
       "      <td style=\"text-align: right\">7</td>\n",
       "    </tr>\n",
       "    <tr style=\"text-align: left\">\n",
       "      <td style=\"text-align: left\">PACBIO_SMRT</td>\n",
       "      <td style=\"text-align: left\">Sequel</td>\n",
       "      <td style=\"text-align: right\">158</td>\n",
       "    </tr>\n",
       "    <tr style=\"text-align: left\">\n",
       "      <td style=\"text-align: left\">PACBIO_SMRT</td>\n",
       "      <td style=\"text-align: left\">TOTAL</td>\n",
       "      <td style=\"text-align: right\">2154</td>\n",
       "    </tr>\n",
       "    <tr style=\"text-align: left\">\n",
       "      <td style=\"text-align: left\">ION_TORRENT</td>\n",
       "      <td style=\"text-align: left\">Ion Torrent PGM</td>\n",
       "      <td style=\"text-align: right\">281</td>\n",
       "    </tr>\n",
       "    <tr style=\"text-align: left\">\n",
       "      <td style=\"text-align: left\">ION_TORRENT</td>\n",
       "      <td style=\"text-align: left\">Ion Torrent S5</td>\n",
       "      <td style=\"text-align: right\">7</td>\n",
       "    </tr>\n",
       "    <tr style=\"text-align: left\">\n",
       "      <td style=\"text-align: left\">ION_TORRENT</td>\n",
       "      <td style=\"text-align: left\">Ion Torrent Proton</td>\n",
       "      <td style=\"text-align: right\">184</td>\n",
       "    </tr>\n",
       "    <tr style=\"text-align: left\">\n",
       "      <td style=\"text-align: left\">ION_TORRENT</td>\n",
       "      <td style=\"text-align: left\">Ion Torrent S5 XL</td>\n",
       "      <td style=\"text-align: right\">6</td>\n",
       "    </tr>\n",
       "    <tr style=\"text-align: left\">\n",
       "      <td style=\"text-align: left\">ION_TORRENT</td>\n",
       "      <td style=\"text-align: left\">Ion S5</td>\n",
       "      <td style=\"text-align: right\">24</td>\n",
       "    </tr>\n",
       "    <tr style=\"text-align: left\">\n",
       "      <td style=\"text-align: left\">ION_TORRENT</td>\n",
       "      <td style=\"text-align: left\">Ion S5 XL</td>\n",
       "      <td style=\"text-align: right\">31</td>\n",
       "    </tr>\n",
       "    <tr style=\"text-align: left\">\n",
       "      <td style=\"text-align: left\">ION_TORRENT</td>\n",
       "      <td style=\"text-align: left\">TOTAL</td>\n",
       "      <td style=\"text-align: right\">533</td>\n",
       "    </tr>\n",
       "    <tr style=\"text-align: left\">\n",
       "      <td style=\"text-align: left\">BGISEQ</td>\n",
       "      <td style=\"text-align: left\">BGISEQ-500</td>\n",
       "      <td style=\"text-align: right\">68</td>\n",
       "    </tr>\n",
       "    <tr style=\"text-align: left\">\n",
       "      <td style=\"text-align: left\">BGISEQ</td>\n",
       "      <td style=\"text-align: left\">TOTAL</td>\n",
       "      <td style=\"text-align: right\">68</td>\n",
       "    </tr>\n",
       "    <tr style=\"text-align: left\">\n",
       "      <td style=\"text-align: left\">LS454</td>\n",
       "      <td style=\"text-align: left\">454 GS FLX Titanium</td>\n",
       "      <td style=\"text-align: right\">751</td>\n",
       "    </tr>\n",
       "    <tr style=\"text-align: left\">\n",
       "      <td style=\"text-align: left\">LS454</td>\n",
       "      <td style=\"text-align: left\">454 GS</td>\n",
       "      <td style=\"text-align: right\">2</td>\n",
       "    </tr>\n",
       "    <tr style=\"text-align: left\">\n",
       "      <td style=\"text-align: left\">LS454</td>\n",
       "      <td style=\"text-align: left\">454 GS Junior</td>\n",
       "      <td style=\"text-align: right\">25</td>\n",
       "    </tr>\n",
       "    <tr style=\"text-align: left\">\n",
       "      <td style=\"text-align: left\">LS454</td>\n",
       "      <td style=\"text-align: left\">454 GS FLX</td>\n",
       "      <td style=\"text-align: right\">305</td>\n",
       "    </tr>\n",
       "    <tr style=\"text-align: left\">\n",
       "      <td style=\"text-align: left\">LS454</td>\n",
       "      <td style=\"text-align: left\">454 GS 20</td>\n",
       "      <td style=\"text-align: right\">27</td>\n",
       "    </tr>\n",
       "    <tr style=\"text-align: left\">\n",
       "      <td style=\"text-align: left\">LS454</td>\n",
       "      <td style=\"text-align: left\">454 GS FLX+</td>\n",
       "      <td style=\"text-align: right\">54</td>\n",
       "    </tr>\n",
       "    <tr style=\"text-align: left\">\n",
       "      <td style=\"text-align: left\">LS454</td>\n",
       "      <td style=\"text-align: left\">TOTAL</td>\n",
       "      <td style=\"text-align: right\">1164</td>\n",
       "    </tr>\n",
       "    <tr style=\"text-align: left\">\n",
       "      <td style=\"text-align: left\">ABI_SOLID</td>\n",
       "      <td style=\"text-align: left\">AB SOLiD 4 System</td>\n",
       "      <td style=\"text-align: right\">85</td>\n",
       "    </tr>\n",
       "    <tr style=\"text-align: left\">\n",
       "      <td style=\"text-align: left\">ABI_SOLID</td>\n",
       "      <td style=\"text-align: left\">AB 5500 Genetic Analyzer</td>\n",
       "      <td style=\"text-align: right\">60</td>\n",
       "    </tr>\n",
       "    <tr style=\"text-align: left\">\n",
       "      <td style=\"text-align: left\">ABI_SOLID</td>\n",
       "      <td style=\"text-align: left\">AB SOLiD System 3.0</td>\n",
       "      <td style=\"text-align: right\">39</td>\n",
       "    </tr>\n",
       "    <tr style=\"text-align: left\">\n",
       "      <td style=\"text-align: left\">ABI_SOLID</td>\n",
       "      <td style=\"text-align: left\">AB SOLiD System 2.0</td>\n",
       "      <td style=\"text-align: right\">1</td>\n",
       "    </tr>\n",
       "    <tr style=\"text-align: left\">\n",
       "      <td style=\"text-align: left\">ABI_SOLID</td>\n",
       "      <td style=\"text-align: left\">AB 5500xl Genetic Analyzer</td>\n",
       "      <td style=\"text-align: right\">229</td>\n",
       "    </tr>\n",
       "    <tr style=\"text-align: left\">\n",
       "      <td style=\"text-align: left\">ABI_SOLID</td>\n",
       "      <td style=\"text-align: left\">AB SOLiD System</td>\n",
       "      <td style=\"text-align: right\">5</td>\n",
       "    </tr>\n",
       "    <tr style=\"text-align: left\">\n",
       "      <td style=\"text-align: left\">ABI_SOLID</td>\n",
       "      <td style=\"text-align: left\">AB SOLiD 4hq System</td>\n",
       "      <td style=\"text-align: right\">1</td>\n",
       "    </tr>\n",
       "    <tr style=\"text-align: left\">\n",
       "      <td style=\"text-align: left\">ABI_SOLID</td>\n",
       "      <td style=\"text-align: left\">TOTAL</td>\n",
       "      <td style=\"text-align: right\">420</td>\n",
       "    </tr>\n",
       "    <tr style=\"text-align: left\">\n",
       "      <td style=\"text-align: left\">CAPILLARY</td>\n",
       "      <td style=\"text-align: left\">AB 3730xL Genetic Analyzer</td>\n",
       "      <td style=\"text-align: right\">761</td>\n",
       "    </tr>\n",
       "    <tr style=\"text-align: left\">\n",
       "      <td style=\"text-align: left\">CAPILLARY</td>\n",
       "      <td style=\"text-align: left\">AB 310 Genetic Analyzer</td>\n",
       "      <td style=\"text-align: right\">66</td>\n",
       "    </tr>\n",
       "    <tr style=\"text-align: left\">\n",
       "      <td style=\"text-align: left\">CAPILLARY</td>\n",
       "      <td style=\"text-align: left\">AB 3500 Genetic Analyzer</td>\n",
       "      <td style=\"text-align: right\">2</td>\n",
       "    </tr>\n",
       "    <tr style=\"text-align: left\">\n",
       "      <td style=\"text-align: left\">CAPILLARY</td>\n",
       "      <td style=\"text-align: left\">AB 3730 Genetic Analyzer</td>\n",
       "      <td style=\"text-align: right\">1</td>\n",
       "    </tr>\n",
       "    <tr style=\"text-align: left\">\n",
       "      <td style=\"text-align: left\">CAPILLARY</td>\n",
       "      <td style=\"text-align: left\">TOTAL</td>\n",
       "      <td style=\"text-align: right\">830</td>\n",
       "    </tr>\n",
       "    <tr style=\"text-align: left\">\n",
       "      <td style=\"text-align: left\">TOTAL</td>\n",
       "      <td style=\"text-align: left\">TOTAL</td>\n",
       "      <td style=\"text-align: right\">186022</td>\n",
       "    </tr>\n",
       "  </tbody>\n",
       "</table>"
      ],
      "text/plain": [
       "<IPython.core.display.HTML object>"
      ]
     },
     "execution_count": 90,
     "metadata": {},
     "output_type": "execute_result"
    }
   ],
   "source": [
    "platform_counts = collections.defaultdict(collections.Counter)\n",
    "for run in RUNS.values():\n",
    "  platform_counts[run.Platform][run.Model] += 1\n",
    "rows = []\n",
    "all_total = 0\n",
    "for platform, model_counts in platform_counts.items():\n",
    "  total = 0\n",
    "  for model, count in model_counts.items():\n",
    "    total += count\n",
    "    rows.append((platform, model, count))\n",
    "  rows.append((platform, 'TOTAL', total))\n",
    "  all_total += total\n",
    "rows.append(('TOTAL', 'TOTAL', all_total))\n",
    "Table(rows, header=('Platform', 'Model', 'Runs')).render()"
   ]
  },
  {
   "cell_type": "markdown",
   "metadata": {},
   "source": [
    "# Groups"
   ]
  },
  {
   "cell_type": "markdown",
   "metadata": {},
   "source": [
    "## How many runs does each group typically submit?"
   ]
  },
  {
   "cell_type": "code",
   "execution_count": 23,
   "metadata": {},
   "outputs": [],
   "source": [
    "def divide_accessions_by_group(accessions, runs=RUNS, summaries=SUMMARIES):\n",
    "  \"\"\"Divide the list of accessions into sublists by submitting group.\"\"\"\n",
    "  acc_by_group = collections.defaultdict(list)\n",
    "  for accession in accessions:\n",
    "    study = Study.from_accession(accession)\n",
    "    acc_by_group[study.submitter].append(accession)\n",
    "  return acc_by_group"
   ]
  },
  {
   "cell_type": "code",
   "execution_count": 27,
   "metadata": {},
   "outputs": [],
   "source": [
    "acc_by_group = divide_accessions_by_group(everything)"
   ]
  },
  {
   "cell_type": "markdown",
   "metadata": {},
   "source": [
    "### What's the median?"
   ]
  },
  {
   "cell_type": "code",
   "execution_count": 42,
   "metadata": {},
   "outputs": [
    {
     "data": {
      "text/plain": [
       "10"
      ]
     },
     "execution_count": 42,
     "metadata": {},
     "output_type": "execute_result"
    }
   ],
   "source": [
    "all_counts = sorted(len(group_list) for group_list in acc_by_group.values())\n",
    "all_counts[len(all_counts)//2]"
   ]
  },
  {
   "cell_type": "markdown",
   "metadata": {},
   "source": [
    "### What's the distribution?"
   ]
  },
  {
   "cell_type": "code",
   "execution_count": 73,
   "metadata": {},
   "outputs": [
    {
     "data": {
      "text/plain": [
       "<matplotlib.collections.PathCollection at 0x7fd90cb44828>"
      ]
     },
     "execution_count": 73,
     "metadata": {},
     "output_type": "execute_result"
    },
    {
     "data": {
      "image/png": "[encoded data removed]",
      "text/plain": [
       "<Figure size 720x540 with 1 Axes>"
      ]
     },
     "metadata": {
      "needs_background": "light"
     },
     "output_type": "display_data"
    }
   ],
   "source": [
    "figure = pyplot.figure(dpi=90, figsize=(8,6))\n",
    "axes = figure.add_subplot(1,1,1)\n",
    "axes.set_yscale('log')\n",
    "axes.set_title('SRA runs per group')\n",
    "axes.set_ylabel('Runs per group')\n",
    "axes.set_xlabel('Group rank')\n",
    "axes.scatter(list(range(len(all_counts))), list(reversed(all_counts)))"
   ]
  },
  {
   "cell_type": "markdown",
   "metadata": {},
   "source": [
    "Okay so there's clearly a long tail. A few groups have thousands of runs in the database."
   ]
  },
  {
   "cell_type": "markdown",
   "metadata": {},
   "source": [
    "### Who are the top 10 submitters?"
   ]
  },
  {
   "cell_type": "code",
   "execution_count": 56,
   "metadata": {
    "scrolled": true
   },
   "outputs": [
    {
     "data": {
      "text/html": [
       "<table style=\"text-align: left\">\n",
       "  <thead style=\"text-align: left; font-weight: bold\">\n",
       "    <tr style=\"text-align: left\">\n",
       "      <th scope=\"col\" style=\"text-align: left\"></th>\n",
       "      <th scope=\"col\" colspan=2 style=\"text-align: left\">Most common model</th>\n",
       "    </tr>\n",
       "    <tr style=\"text-align: left\">\n",
       "      <th scope=\"col\" style=\"text-align: left\">Runs</th>\n",
       "      <th scope=\"col\" style=\"text-align: left\">Model</th>\n",
       "      <th scope=\"col\" style=\"text-align: left\">%</th>\n",
       "      <th scope=\"col\" style=\"text-align: left\">Center</th>\n",
       "      <th scope=\"col\" style=\"text-align: left\">Lab</th>\n",
       "      <th scope=\"col\" style=\"text-align: left\">Contact</th>\n",
       "    </tr>\n",
       "  </thead>\n",
       "  <tbody style=\"text-align: left\">\n",
       "    <tr style=\"text-align: left\">\n",
       "      <td style=\"text-align: right\">26493</td>\n",
       "      <td style=\"text-align: left\">HiSeq X Ten</td>\n",
       "      <td style=\"text-align: left\">65%</td>\n",
       "      <td style=\"text-align: left\"></td>\n",
       "      <td style=\"text-align: left\">Euro. Nuc. Archive</td>\n",
       "      <td style=\"text-align: left\">Euro. Nuc. Archive</td>\n",
       "    </tr>\n",
       "    <tr style=\"text-align: left\">\n",
       "      <td style=\"text-align: right\">16532</td>\n",
       "      <td style=\"text-align: left\">MiSeq</td>\n",
       "      <td style=\"text-align: left\">100%</td>\n",
       "      <td style=\"text-align: left\">edlb-cdc</td>\n",
       "      <td style=\"text-align: left\"></td>\n",
       "      <td style=\"text-align: left\">edlb-cdc service</td>\n",
       "    </tr>\n",
       "    <tr style=\"text-align: left\">\n",
       "      <td style=\"text-align: right\">10988</td>\n",
       "      <td style=\"text-align: left\">MiSeq</td>\n",
       "      <td style=\"text-align: left\">99%</td>\n",
       "      <td style=\"text-align: left\">Pulsenet</td>\n",
       "      <td style=\"text-align: left\"></td>\n",
       "      <td style=\"text-align: left\">pulsenet service</td>\n",
       "    </tr>\n",
       "    <tr style=\"text-align: left\">\n",
       "      <td style=\"text-align: right\">10205</td>\n",
       "      <td style=\"text-align: left\">HiSeq 2500</td>\n",
       "      <td style=\"text-align: left\">100%</td>\n",
       "      <td style=\"text-align: left\">PHE</td>\n",
       "      <td style=\"text-align: left\"></td>\n",
       "      <td style=\"text-align: left\"></td>\n",
       "    </tr>\n",
       "    <tr style=\"text-align: left\">\n",
       "      <td style=\"text-align: right\">8231</td>\n",
       "      <td style=\"text-align: left\">MiSeq</td>\n",
       "      <td style=\"text-align: left\">91%</td>\n",
       "      <td style=\"text-align: left\">CFSAN</td>\n",
       "      <td style=\"text-align: left\"></td>\n",
       "      <td style=\"text-align: left\">fda service</td>\n",
       "    </tr>\n",
       "    <tr style=\"text-align: left\">\n",
       "      <td style=\"text-align: right\">6314</td>\n",
       "      <td style=\"text-align: left\">HiSeq 2500</td>\n",
       "      <td style=\"text-align: left\">26%</td>\n",
       "      <td style=\"text-align: left\">GEO</td>\n",
       "      <td style=\"text-align: left\"></td>\n",
       "      <td style=\"text-align: left\">Gene Expression Omnibus (GEO), NCBI, NLM, NIH, htt</td>\n",
       "    </tr>\n",
       "    <tr style=\"text-align: left\">\n",
       "      <td style=\"text-align: right\">4281</td>\n",
       "      <td style=\"text-align: left\">HiSeq 2000</td>\n",
       "      <td style=\"text-align: left\">95%</td>\n",
       "      <td style=\"text-align: left\">SC</td>\n",
       "      <td style=\"text-align: left\"></td>\n",
       "      <td style=\"text-align: left\"></td>\n",
       "    </tr>\n",
       "    <tr style=\"text-align: left\">\n",
       "      <td style=\"text-align: right\">3476</td>\n",
       "      <td style=\"text-align: left\">MiSeq</td>\n",
       "      <td style=\"text-align: left\">100%</td>\n",
       "      <td style=\"text-align: left\">USDA-FSIS</td>\n",
       "      <td style=\"text-align: left\"></td>\n",
       "      <td style=\"text-align: left\">Glenn Tillman</td>\n",
       "    </tr>\n",
       "    <tr style=\"text-align: left\">\n",
       "      <td style=\"text-align: right\">3313</td>\n",
       "      <td style=\"text-align: left\">MiSeq</td>\n",
       "      <td style=\"text-align: left\">86%</td>\n",
       "      <td style=\"text-align: left\">edlb-cdc</td>\n",
       "      <td style=\"text-align: left\">Enteric Diseases Lab. Branch</td>\n",
       "      <td style=\"text-align: left\">Enteric Diseases Lab. Branch</td>\n",
       "    </tr>\n",
       "    <tr style=\"text-align: left\">\n",
       "      <td style=\"text-align: right\">2506</td>\n",
       "      <td style=\"text-align: left\">MiSeq</td>\n",
       "      <td style=\"text-align: left\">55%</td>\n",
       "      <td style=\"text-align: left\">CFSAN</td>\n",
       "      <td style=\"text-align: left\"></td>\n",
       "      <td style=\"text-align: left\"></td>\n",
       "    </tr>\n",
       "  </tbody>\n",
       "</table>"
      ],
      "text/plain": [
       "<IPython.core.display.HTML object>"
      ]
     },
     "execution_count": 56,
     "metadata": {},
     "output_type": "execute_result"
    }
   ],
   "source": [
    "rows = []\n",
    "for group, group_list in sorted(acc_by_group.items(), key=lambda item: len(item[1]), reverse=True):\n",
    "  if len(rows) >= 10:\n",
    "    break\n",
    "  count = len(group_list)\n",
    "  acc = group_list[0]\n",
    "  run = RUNS[acc]\n",
    "  models = [rm_prefix(RUNS[acc].Model, 'Illumina ') for acc in group_list]\n",
    "  model_counts = collections.Counter(models)\n",
    "  model, model_count = model_counts.most_common(1)[0]\n",
    "  model_pct = f'{100*model_count/count:0.0f}%'\n",
    "  study = Study.from_accession(acc, summaries=SUMMARIES).format_fields(max_len=60)\n",
    "  row = (count, model, model_pct, study.center, study.lab, study.contact)\n",
    "  rows.append(row)\n",
    "header = [\n",
    "  ('', {'value':'Most common model', 'width':2}),\n",
    "  ('Runs', 'Model', '%', 'Center', 'Lab', 'Contact')\n",
    "]\n",
    "Table(rows, header=header).render()"
   ]
  },
  {
   "cell_type": "markdown",
   "metadata": {},
   "source": [
    "# Investigate new data\n",
    "The most recent (August 2020) SRA export (`sra.runinfo3.csv.gz`, `sra.docsum2.xml.gz`) vs. the one from October 2019"
   ]
  },
  {
   "cell_type": "code",
   "execution_count": 13,
   "metadata": {},
   "outputs": [],
   "source": [
    "# All runs from the new SRA export\n",
    "everything = list(RUNS.keys())"
   ]
  },
  {
   "cell_type": "code",
   "execution_count": 14,
   "metadata": {},
   "outputs": [],
   "source": [
    "master   = read_file_as_list(MAIN_DIR/'meta/todo.master.txt')\n",
    "launched = read_file_as_list(MAIN_DIR/'meta/launched.txt')\n",
    "done     = read_file_as_list(MAIN_DIR/'meta/done.txt')"
   ]
  },
  {
   "cell_type": "code",
   "execution_count": 15,
   "metadata": {},
   "outputs": [],
   "source": [
    "old_todo = subtract_lists(master, launched, done)\n",
    "new_todo = subtract_lists(everything, launched, done)"
   ]
  },
  {
   "cell_type": "code",
   "execution_count": 16,
   "metadata": {},
   "outputs": [
    {
     "name": "stdout",
     "output_type": "stream",
     "text": [
      "everything: 186022\n",
      "master:     123663\n",
      "launched:     1438\n",
      "done:          360\n",
      "old todo:   121912\n",
      "new todo:   184264\n"
     ]
    }
   ],
   "source": [
    "print(f\"\"\"everything:{len(everything):7d}\n",
    "master:    {len(master):7d}\n",
    "launched:  {len(launched):7d}\n",
    "done:      {len(done):7d}\n",
    "old todo:  {len(old_todo):7d}\n",
    "new todo:  {len(new_todo):7d}\"\"\")"
   ]
  },
  {
   "cell_type": "markdown",
   "metadata": {},
   "source": [
    "### How many new runs are there?"
   ]
  },
  {
   "cell_type": "code",
   "execution_count": 17,
   "metadata": {},
   "outputs": [
    {
     "data": {
      "text/plain": [
       "62409"
      ]
     },
     "execution_count": 17,
     "metadata": {},
     "output_type": "execute_result"
    }
   ],
   "source": [
    "len(set(everything) - set(master))"
   ]
  },
  {
   "cell_type": "markdown",
   "metadata": {},
   "source": [
    "### How many runs have been removed?\n",
    "- These appear to have been deleted from the SRA"
   ]
  },
  {
   "cell_type": "code",
   "execution_count": 18,
   "metadata": {},
   "outputs": [
    {
     "data": {
      "text/plain": [
       "50"
      ]
     },
     "execution_count": 18,
     "metadata": {},
     "output_type": "execute_result"
    }
   ],
   "source": [
    "len(set(master) - set(everything))"
   ]
  },
  {
   "cell_type": "markdown",
   "metadata": {},
   "source": [
    "### What's the mix of models in the new list?"
   ]
  },
  {
   "cell_type": "code",
   "execution_count": 21,
   "metadata": {},
   "outputs": [],
   "source": [
    "models = collections.defaultdict(int)\n",
    "for acc in new_todo:\n",
    "  run = RUNS[acc]\n",
    "  if run.Platform != 'ILLUMINA':\n",
    "    continue\n",
    "  model = rm_prefix(run.Model, 'Illumina ')\n",
    "  models[model] += 1"
   ]
  },
  {
   "cell_type": "code",
   "execution_count": 22,
   "metadata": {},
   "outputs": [
    {
     "data": {
      "text/html": [
       "<table style=\"text-align: left\">\n",
       "  <tbody style=\"text-align: left\">\n",
       "    <tr style=\"text-align: left\">\n",
       "      <td style=\"text-align: left\">Genome Analyzer</td>\n",
       "      <td style=\"text-align: right\">209</td>\n",
       "    </tr>\n",
       "    <tr style=\"text-align: left\">\n",
       "      <td style=\"text-align: left\">Genome Analyzer II</td>\n",
       "      <td style=\"text-align: right\">830</td>\n",
       "    </tr>\n",
       "    <tr style=\"text-align: left\">\n",
       "      <td style=\"text-align: left\">Genome Analyzer IIx</td>\n",
       "      <td style=\"text-align: right\">1568</td>\n",
       "    </tr>\n",
       "    <tr style=\"text-align: left\">\n",
       "      <td style=\"text-align: left\">HiScanSQ</td>\n",
       "      <td style=\"text-align: right\">35</td>\n",
       "    </tr>\n",
       "    <tr style=\"text-align: left\">\n",
       "      <td style=\"text-align: left\">HiSeq 1000</td>\n",
       "      <td style=\"text-align: right\">286</td>\n",
       "    </tr>\n",
       "    <tr style=\"text-align: left\">\n",
       "      <td style=\"text-align: left\">HiSeq 1500</td>\n",
       "      <td style=\"text-align: right\">431</td>\n",
       "    </tr>\n",
       "    <tr style=\"text-align: left\">\n",
       "      <td style=\"text-align: left\">HiSeq 2000</td>\n",
       "      <td style=\"text-align: right\">18468</td>\n",
       "    </tr>\n",
       "    <tr style=\"text-align: left\">\n",
       "      <td style=\"text-align: left\">HiSeq 2500</td>\n",
       "      <td style=\"text-align: right\">35743</td>\n",
       "    </tr>\n",
       "    <tr style=\"text-align: left\">\n",
       "      <td style=\"text-align: left\">HiSeq 3000</td>\n",
       "      <td style=\"text-align: right\">356</td>\n",
       "    </tr>\n",
       "    <tr style=\"text-align: left\">\n",
       "      <td style=\"text-align: left\">HiSeq 4000</td>\n",
       "      <td style=\"text-align: right\">7320</td>\n",
       "    </tr>\n",
       "    <tr style=\"text-align: left\">\n",
       "      <td style=\"text-align: left\">HiSeq X Five</td>\n",
       "      <td style=\"text-align: right\">558</td>\n",
       "    </tr>\n",
       "    <tr style=\"text-align: left\">\n",
       "      <td style=\"text-align: left\">HiSeq X Ten</td>\n",
       "      <td style=\"text-align: right\">17882</td>\n",
       "    </tr>\n",
       "    <tr style=\"text-align: left\">\n",
       "      <td style=\"text-align: left\">MiSeq</td>\n",
       "      <td style=\"text-align: right\">74813</td>\n",
       "    </tr>\n",
       "    <tr style=\"text-align: left\">\n",
       "      <td style=\"text-align: left\">MiniSeq</td>\n",
       "      <td style=\"text-align: right\">161</td>\n",
       "    </tr>\n",
       "    <tr style=\"text-align: left\">\n",
       "      <td style=\"text-align: left\">NextSeq 500</td>\n",
       "      <td style=\"text-align: right\">16176</td>\n",
       "    </tr>\n",
       "    <tr style=\"text-align: left\">\n",
       "      <td style=\"text-align: left\">NextSeq 550</td>\n",
       "      <td style=\"text-align: right\">813</td>\n",
       "    </tr>\n",
       "    <tr style=\"text-align: left\">\n",
       "      <td style=\"text-align: left\">NovaSeq 6000</td>\n",
       "      <td style=\"text-align: right\">1268</td>\n",
       "    </tr>\n",
       "    <tr style=\"text-align: left\">\n",
       "      <td style=\"text-align: left\">iSeq 100</td>\n",
       "      <td style=\"text-align: right\">12</td>\n",
       "    </tr>\n",
       "    <tr style=\"text-align: left\">\n",
       "      <td style=\"text-align: left\">unspecified</td>\n",
       "      <td style=\"text-align: right\">619</td>\n",
       "    </tr>\n",
       "  </tbody>\n",
       "</table>"
      ],
      "text/plain": [
       "<IPython.core.display.HTML object>"
      ]
     },
     "execution_count": 22,
     "metadata": {},
     "output_type": "execute_result"
    }
   ],
   "source": [
    "rows = []\n",
    "for model in sorted(models.keys()):\n",
    "  rows.append((model, models[model]))\n",
    "Table(rows).render()"
   ]
  },
  {
   "cell_type": "code",
   "execution_count": null,
   "metadata": {},
   "outputs": [],
   "source": []
  }
 ],
 "metadata": {
  "kernelspec": {
   "display_name": "Python 3",
   "language": "python",
   "name": "python3"
  },
  "language_info": {
   "codemirror_mode": {
    "name": "ipython",
    "version": 3
   },
   "file_extension": ".py",
   "mimetype": "text/x-python",
   "name": "python",
   "nbconvert_exporter": "python",
   "pygments_lexer": "ipython3",
   "version": "3.7.3"
  }
 },
 "nbformat": 4,
 "nbformat_minor": 2
}
