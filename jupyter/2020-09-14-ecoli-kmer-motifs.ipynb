{
 "cells": [
  {
   "cell_type": "markdown",
   "metadata": {},
   "source": [
    "# About\n",
    "This was used to produce Figure 4."
   ]
  },
  {
   "cell_type": "markdown",
   "metadata": {},
   "source": [
    "# Prereqs"
   ]
  },
  {
   "cell_type": "code",
   "execution_count": 1,
   "metadata": {},
   "outputs": [],
   "source": [
    "import collections\n",
    "import csv\n",
    "import gzip\n",
    "import pathlib\n",
    "import sys\n",
    "import time"
   ]
  },
  {
   "cell_type": "code",
   "execution_count": 2,
   "metadata": {},
   "outputs": [],
   "source": [
    "from matplotlib import pyplot"
   ]
  },
  {
   "cell_type": "code",
   "execution_count": 3,
   "metadata": {},
   "outputs": [],
   "source": [
    "sys.path.append('/galaxy/home/nick/code/nick-bfx')\n",
    "import fastagenerators"
   ]
  },
  {
   "cell_type": "code",
   "execution_count": 4,
   "metadata": {},
   "outputs": [],
   "source": [
    "%matplotlib inline"
   ]
  },
  {
   "cell_type": "code",
   "execution_count": 5,
   "metadata": {},
   "outputs": [],
   "source": [
    "MAIN_DIR = pathlib.Path('/nfs/brubeck.bx.psu.edu/scratch5/nick/overlaps/auto/ecoli')\n",
    "CSV_PATH = MAIN_DIR/'sra.runinfo3.csv.gz'\n",
    "# The reference most frequently chosen as the best match for each run\n",
    "REF_PATH = MAIN_DIR/'refs/individual/GCF_008761455.1_ASM876145v1_genomic.fna'\n",
    "COLORS = collections.OrderedDict((('A','#3ab53a'), ('T','#d24343'), ('C','#3491d1'), ('G','#f68b2b')))\n",
    "BASES = tuple(COLORS.keys())"
   ]
  },
  {
   "cell_type": "markdown",
   "metadata": {},
   "source": [
    "## Reading metadata"
   ]
  },
  {
   "cell_type": "code",
   "execution_count": 6,
   "metadata": {},
   "outputs": [],
   "source": [
    "def read_runinfo(csv_path):\n",
    "  start = time.perf_counter()\n",
    "  int_fields = {'spots', 'spots_with_mates', 'avgLength', 'size_MB', 'InsertSize', 'InsertDev', 'ProjectID', 'TaxID'}\n",
    "  runs = {}\n",
    "  header = {}\n",
    "  empty_lines = 0\n",
    "  header_lines = 0\n",
    "  try:\n",
    "    with gzip.open(csv_path, 'rt') as csv_file:\n",
    "      for row in csv.reader(csv_file):\n",
    "        if not header:\n",
    "          header_lines += 1\n",
    "          for i, value in enumerate(row):\n",
    "            header[i] = value\n",
    "          RunInfo = collections.namedtuple('RunInfo', header.values())\n",
    "          continue\n",
    "        if len(row) == 0:\n",
    "          empty_lines += 1\n",
    "          continue\n",
    "        assert len(row) == len(header), (len(row), row)\n",
    "        header_matches = 0\n",
    "        value_dict = {}\n",
    "        for i, raw_value in enumerate(row):\n",
    "          if raw_value == header[i]:\n",
    "            header_matches += 1\n",
    "          else:\n",
    "            if header[i] in int_fields:\n",
    "              try:\n",
    "                value = int(raw_value)\n",
    "              except ValueError:\n",
    "                if header[i] == 'InsertDev':\n",
    "                  value = float(raw_value)\n",
    "                else:\n",
    "                  print(f'{header[i]}: {raw_value!r}', file=sys.stderr)\n",
    "            else:\n",
    "              value = raw_value\n",
    "          value_dict[header[i]] = value\n",
    "        if header_matches > 5:\n",
    "          header_lines += 1\n",
    "          continue\n",
    "        runs[value_dict['Run']] = RunInfo(**value_dict)\n",
    "  except EOFError:\n",
    "    print('Incomplete gzip.', file=sys.stderr)\n",
    "  elapsed = time.perf_counter() - start\n",
    "  print(f'{len(runs)} runs in {elapsed:0.1f} seconds (headers: {header_lines}, empty lines: {empty_lines})')\n",
    "  return runs"
   ]
  },
  {
   "cell_type": "markdown",
   "metadata": {},
   "source": [
    "## Read in the metadata"
   ]
  },
  {
   "cell_type": "code",
   "execution_count": 7,
   "metadata": {},
   "outputs": [
    {
     "name": "stdout",
     "output_type": "stream",
     "text": [
      "186022 runs in 13.2 seconds (headers: 1, empty lines: 0)\n"
     ]
    }
   ],
   "source": [
    "RUNS = read_runinfo(CSV_PATH)"
   ]
  },
  {
   "cell_type": "markdown",
   "metadata": {},
   "source": [
    "## Misc"
   ]
  },
  {
   "cell_type": "code",
   "execution_count": 8,
   "metadata": {},
   "outputs": [],
   "source": [
    "def human_time(sec):\n",
    "  if sec < 60:\n",
    "    return format_time(sec, 'second')\n",
    "  elif sec < 60*60:\n",
    "    return format_time(sec/60, 'minute')\n",
    "  elif sec < 24*60*60:\n",
    "    return format_time(sec/60/60, 'hour')\n",
    "  elif sec < 10*24*60*60:\n",
    "    return format_time(sec/60/60/24, 'day')\n",
    "  elif sec < 40*24*60*60:\n",
    "    return format_time(sec/60/60/24/7, 'week')\n",
    "  elif sec < 365*24*60*60:\n",
    "    return format_time(sec/60/60/24/30.5, 'month')\n",
    "  else:\n",
    "    return format_time(sec/60/60/24/365, 'year')\n",
    "def format_time(quantity, unit):\n",
    "  rounded = round(quantity, 1)\n",
    "  if rounded == int(quantity):\n",
    "    rounded = int(quantity)\n",
    "  output = str(rounded)+' '+unit\n",
    "  if rounded != 1:\n",
    "    output += 's'\n",
    "  return output"
   ]
  },
  {
   "cell_type": "code",
   "execution_count": 9,
   "metadata": {},
   "outputs": [],
   "source": [
    "def get_median(values):\n",
    "  sorted_values = sorted(values)\n",
    "  length = len(values)\n",
    "  if length % 2 == 1:\n",
    "    return sorted_values[length//2]\n",
    "  else:\n",
    "    left = sorted_values[length//2-1]\n",
    "    right = sorted_values[length//2]\n",
    "    return (left+right)/2"
   ]
  },
  {
   "cell_type": "code",
   "execution_count": 10,
   "metadata": {},
   "outputs": [],
   "source": [
    "def rm_prefix(string, prefix):\n",
    "  if string.startswith(prefix):\n",
    "    return string[len(prefix):]\n",
    "  else:\n",
    "    return string"
   ]
  },
  {
   "cell_type": "code",
   "execution_count": 11,
   "metadata": {},
   "outputs": [],
   "source": [
    "def matches_platform(runs, sample, platform):\n",
    "  run = runs.get(sample)\n",
    "  if not run:\n",
    "    return False\n",
    "  if platform == run.Model:\n",
    "    return True\n",
    "  abbrev = ' '.join(run.Model.split()[1:])\n",
    "  if platform == abbrev:\n",
    "    return True\n",
    "  return False"
   ]
  },
  {
   "cell_type": "code",
   "execution_count": 12,
   "metadata": {},
   "outputs": [],
   "source": [
    "def get_done_samples(done_file='seq-context.tsv', platform=None, runs=None, main_dir=MAIN_DIR):\n",
    "  kmers = collections.Counter()\n",
    "  start = time.time()\n",
    "  num_done = 0\n",
    "  for sample_dir in (main_dir/'runs').iterdir():\n",
    "    sample = sample_dir.name\n",
    "    context_path = sample_dir/done_file\n",
    "    if not context_path.is_file():\n",
    "      continue\n",
    "    if (platform and runs) and not matches_platform(runs, sample, platform):\n",
    "      continue\n",
    "    yield sample"
   ]
  },
  {
   "cell_type": "code",
   "execution_count": 13,
   "metadata": {},
   "outputs": [],
   "source": [
    "def group_samples_by_model(samples, runs=RUNS):\n",
    "  samples_by_model = {}\n",
    "  for sample in samples:\n",
    "    run = runs[sample]\n",
    "    model = rm_prefix(run.Model, 'Illumina ')\n",
    "    try:\n",
    "      samples_by_model[model].append(sample)\n",
    "    except KeyError:\n",
    "      samples_by_model[model] = [sample]\n",
    "  return samples_by_model"
   ]
  },
  {
   "cell_type": "markdown",
   "metadata": {},
   "source": [
    "## Analyzing the reference"
   ]
  },
  {
   "cell_type": "code",
   "execution_count": 14,
   "metadata": {},
   "outputs": [],
   "source": [
    "def get_seq_kmers(ref_path, k):\n",
    "  kmers = collections.Counter()\n",
    "  for sequence in fastagenerators.FastaLineBuffered(ref_path):\n",
    "    kmer = ''\n",
    "    for base in sequence.bases():\n",
    "      if len(kmer) == k:\n",
    "        kmer = kmer[1:]+base\n",
    "      elif len(kmer) < k:\n",
    "        kmer += base\n",
    "      else:\n",
    "        raise AssertionError(f'kmer {kmer!r} longer than k ({k})')\n",
    "      kmers[kmer] += 1\n",
    "  kmer_list = list(kmers.keys())\n",
    "  for kmer in kmer_list:\n",
    "    if len(kmer) != k:\n",
    "      del kmers[kmer]\n",
    "  return kmers"
   ]
  },
  {
   "cell_type": "markdown",
   "metadata": {},
   "source": [
    "## Analyze the reference"
   ]
  },
  {
   "cell_type": "code",
   "execution_count": 15,
   "metadata": {},
   "outputs": [],
   "source": [
    "REF_KMERS = get_seq_kmers(REF_PATH, 3)"
   ]
  },
  {
   "cell_type": "markdown",
   "metadata": {},
   "source": [
    "## Read in data"
   ]
  },
  {
   "cell_type": "code",
   "execution_count": 16,
   "metadata": {},
   "outputs": [],
   "source": [
    "class Context(collections.namedtuple('Context', ('chr', 'pos', 'index', 'base', 'seq', 'gc'))):\n",
    "  __slots__ = ()\n",
    "  def __str__(self):\n",
    "    output = []\n",
    "    for i, base in enumerate(self.seq):\n",
    "      if i == self.index:\n",
    "        output.append('|'+base+'|')\n",
    "      else:\n",
    "        output.append(base)\n",
    "    return ''.join(output)\n",
    "  def __eq__(self, other):\n",
    "    for field in self._fields:\n",
    "      if getattr(self, attr) != getattr(other, attr):\n",
    "        return False\n",
    "    return True"
   ]
  },
  {
   "cell_type": "code",
   "execution_count": 17,
   "metadata": {},
   "outputs": [],
   "source": [
    "def read_contexts(context_path):\n",
    "  with context_path.open() as context_file:\n",
    "    for line_raw in context_file:\n",
    "      fields = line_raw.rstrip('\\r\\n').split('\\t')\n",
    "      if len(fields) != 6:\n",
    "        continue\n",
    "      if fields[5] == '.':\n",
    "        gc = None\n",
    "      else:\n",
    "        gc = float(fields[5])\n",
    "      yield Context(\n",
    "        chr=fields[0],\n",
    "        pos=int(fields[1]),\n",
    "        index=int(fields[2]),\n",
    "        base=fields[3],\n",
    "        seq=fields[4],\n",
    "        gc=gc,\n",
    "      )"
   ]
  },
  {
   "cell_type": "code",
   "execution_count": 18,
   "metadata": {},
   "outputs": [],
   "source": [
    "def dedup_contexts(contexts):\n",
    "  done = set()\n",
    "  for context in contexts:\n",
    "    key = (context.chr, context.pos)\n",
    "    if key not in done:\n",
    "      yield context\n",
    "      done.add(key)"
   ]
  },
  {
   "cell_type": "code",
   "execution_count": 19,
   "metadata": {},
   "outputs": [],
   "source": [
    "def get_kmer_counts(samples, k, offset=1, dedup=True, main_dir=MAIN_DIR):\n",
    "  \"\"\"`offset` controls where the kmer is from relative to the error.\n",
    "  It will be the (1-based) position of the error base in the kmer.\n",
    "  So if `k` is 3 and `offset` is 1, then in the kmer `GAT`, `G` is the error position.\n",
    "  If `offset` is 3, then `T` would be at the error.\n",
    "  `offset` can be > `k` or < 1, in which case the kmer will be from before or after the error, respectively.\"\"\"\n",
    "  kmers = collections.Counter()\n",
    "  start_time = time.perf_counter()\n",
    "  num_done = 0\n",
    "  for sample in samples:\n",
    "    context_path = MAIN_DIR/'runs'/sample/'seq-context.tsv'\n",
    "    context_generator = read_contexts(context_path)\n",
    "    if dedup:\n",
    "      context_generator = dedup_contexts(context_generator)\n",
    "    for context in context_generator:\n",
    "      start = context.index - offset + 1\n",
    "      end = start + k\n",
    "      kmer = context.seq[start:end].upper()\n",
    "      if len(kmer) == k:\n",
    "        kmers[kmer] += 1\n",
    "    num_done += 1\n",
    "  elapsed = int(time.perf_counter() - start_time)\n",
    "  print(f'{num_done} samples in {human_time(elapsed)}')\n",
    "  return kmers"
   ]
  },
  {
   "cell_type": "code",
   "execution_count": 20,
   "metadata": {},
   "outputs": [],
   "source": [
    "samples_by_model = group_samples_by_model(get_done_samples(done_file='seq-context.tsv'))"
   ]
  },
  {
   "cell_type": "code",
   "execution_count": 21,
   "metadata": {},
   "outputs": [],
   "source": [
    "MODELS = ('MiSeq', 'MiniSeq', 'NextSeq 500', 'NextSeq 550', 'HiSeq 2500', 'NovaSeq 6000', 'HiSeq X Ten')"
   ]
  },
  {
   "cell_type": "code",
   "execution_count": 22,
   "metadata": {},
   "outputs": [
    {
     "name": "stdout",
     "output_type": "stream",
     "text": [
      "Processing MiSeq\n",
      "299 samples in 1.2 hours\n",
      "Processing MiniSeq\n",
      "69 samples in 17.6 minutes\n",
      "Processing NextSeq 500\n",
      "267 samples in 35.3 minutes\n",
      "Processing NextSeq 550\n",
      "282 samples in 1.1 hours\n",
      "Processing HiSeq 2500\n",
      "273 samples in 21.6 minutes\n",
      "Processing NovaSeq 6000\n",
      "346 samples in 38.9 minutes\n",
      "Processing HiSeq X Ten\n",
      "295 samples in 25.4 minutes\n",
      "Total: 4.6 hours\n"
     ]
    }
   ],
   "source": [
    "kmers_by_model3 = {}\n",
    "start = time.perf_counter()\n",
    "for model in MODELS:\n",
    "  print(f'Processing {model}')\n",
    "  samples = samples_by_model[model]\n",
    "  kmers_by_model3[model] = get_kmer_counts(samples, 3, offset=3)\n",
    "elapsed = time.perf_counter() - start\n",
    "print(f'Total: {human_time(elapsed)}')"
   ]
  },
  {
   "cell_type": "code",
   "execution_count": 29,
   "metadata": {},
   "outputs": [],
   "source": [
    "def has_ambiguities(seq):\n",
    "  for base in seq:\n",
    "    if base not in 'ACGT':\n",
    "      return True\n",
    "  return False"
   ]
  },
  {
   "cell_type": "code",
   "execution_count": 30,
   "metadata": {},
   "outputs": [],
   "source": [
    "def get_kmer_freqs(kmer_counts, canonical_only=True):\n",
    "  kmer_freqs = {}\n",
    "  kmers = []\n",
    "  for kmer in kmer_counts.keys():\n",
    "    if canonical_only:\n",
    "      if has_ambiguities(kmer):\n",
    "        continue\n",
    "    kmers.append(kmer)\n",
    "  total_count = sum([kmer_counts[kmer] for kmer in kmers])\n",
    "  for kmer in kmers:\n",
    "    kmer_freqs[kmer] = kmer_counts[kmer]/total_count\n",
    "  return kmer_freqs"
   ]
  },
  {
   "cell_type": "code",
   "execution_count": 25,
   "metadata": {},
   "outputs": [],
   "source": [
    "def get_normalized_freqs(kmers_by_model, ref_kmers):\n",
    "  freqs_by_model = {}\n",
    "  ref_freqs = get_kmer_freqs(ref_kmers)\n",
    "  for model, kmer_counts in kmers_by_model.items():\n",
    "    rel_freqs = {}\n",
    "    kmer_freqs = get_kmer_freqs(kmer_counts)\n",
    "    for kmer, freq in kmer_freqs.items():\n",
    "      rel_freqs[kmer] = freq/ref_freqs[kmer]\n",
    "    freqs_by_model[model] = rel_freqs\n",
    "  return freqs_by_model"
   ]
  },
  {
   "cell_type": "code",
   "execution_count": 26,
   "metadata": {},
   "outputs": [],
   "source": [
    "def get_medians(kmer_stats_by_model):\n",
    "  medians = {}\n",
    "  # Get superset of all (valid) kmers seen in all models.\n",
    "  kmers = set()\n",
    "  for model, kmer_stats in kmer_stats_by_model.items():\n",
    "    model_kmers = [kmer for kmer in kmer_stats.keys() if not has_ambiguities(kmer)]\n",
    "    if len(model_kmers) != 64:\n",
    "      print(f'Warning: Got {len(model_kmers)} kmers for model {model}.')\n",
    "    kmers = kmers | set(model_kmers)\n",
    "  if len(kmers) != 64:\n",
    "    print(f'Warning: Ended up with {len(kmers)} total kmers.')\n",
    "  # Calculate medians.\n",
    "  for kmer in kmers:\n",
    "    stats = []\n",
    "    for model, kmer_stats in kmer_stats_by_model.items():\n",
    "      stats.append(kmer_stats[kmer])\n",
    "    medians[kmer] = get_median(stats)\n",
    "  return medians"
   ]
  },
  {
   "cell_type": "code",
   "execution_count": 27,
   "metadata": {},
   "outputs": [],
   "source": [
    "def make_kmer_plot(kmers_by_model, ref_kmers, labels=None, limit=10):\n",
    "  # Normalize kmer counts by genomic abundance.\n",
    "  freqs_by_model = get_normalized_freqs(kmers_by_model, ref_kmers)\n",
    "  # Sort the kmers by the median frequencies.\n",
    "  medians = get_medians(freqs_by_model)\n",
    "  kmers = sorted(medians.keys(), reverse=True, key=lambda kmer: medians[kmer])\n",
    "  if labels is None:\n",
    "    labels = sorted(freqs_by_model.keys())\n",
    "  figure = pyplot.figure(dpi=120, figsize=(6,4.5))\n",
    "  axes = figure.add_subplot(1,1,1)\n",
    "  points_list = []\n",
    "  x_vals = list(range(limit))\n",
    "  y_vals = []\n",
    "  for label in labels:\n",
    "    freqs_by_kmer = freqs_by_model[label]\n",
    "    freqs = []\n",
    "    for kmer in kmers[:limit]:\n",
    "      freq = freqs_by_kmer[kmer]\n",
    "      freqs.append(freq)\n",
    "    points = axes.scatter(x_vals, freqs, s=16)\n",
    "    points_list.append(points)\n",
    "  axes.set_xticks(x_vals)\n",
    "  axes.set_xticklabels(kmers[:limit])\n",
    "  axes.legend(points_list, labels, fontsize=8)\n",
    "  axes.set_title('Representation of Trimers at Error Sites')\n",
    "  axes.set_ylabel('Normalized Trimer Frequency')\n",
    "  axes.set_xlabel(f'Top {limit} Trimers')"
   ]
  },
  {
   "cell_type": "code",
   "execution_count": 28,
   "metadata": {},
   "outputs": [
    {
     "data": {
      "image/png": "[encoded data removed]",
      "text/plain": [
       "<Figure size 720x540 with 1 Axes>"
      ]
     },
     "metadata": {
      "needs_background": "light"
     },
     "output_type": "display_data"
    }
   ],
   "source": [
    "make_kmer_plot(kmers_by_model3, REF_KMERS, labels=MODELS)"
   ]
  },
  {
   "cell_type": "code",
   "execution_count": null,
   "metadata": {},
   "outputs": [],
   "source": []
  }
 ],
 "metadata": {
  "kernelspec": {
   "display_name": "Python 3",
   "language": "python",
   "name": "python3"
  },
  "language_info": {
   "codemirror_mode": {
    "name": "ipython",
    "version": 3
   },
   "file_extension": ".py",
   "mimetype": "text/x-python",
   "name": "python",
   "nbconvert_exporter": "python",
   "pygments_lexer": "ipython3",
   "version": "3.7.3"
  }
 },
 "nbformat": 4,
 "nbformat_minor": 2
}
