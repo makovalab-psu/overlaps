{
 "cells": [
  {
   "cell_type": "markdown",
   "metadata": {},
   "source": [
    "# About\n",
    "This notebook is unorganized but included in case it proves useful.  \n",
    "It was used to manage todo lists of SRA runs to be processed."
   ]
  },
  {
   "cell_type": "markdown",
   "metadata": {},
   "source": [
    "# Prereqs"
   ]
  },
  {
   "cell_type": "code",
   "execution_count": 202,
   "metadata": {},
   "outputs": [],
   "source": [
    "import collections\n",
    "import configparser\n",
    "import csv\n",
    "import gzip\n",
    "import math\n",
    "import pathlib\n",
    "import random\n",
    "import subprocess\n",
    "import time\n",
    "import xml.etree.ElementTree"
   ]
  },
  {
   "cell_type": "code",
   "execution_count": 227,
   "metadata": {},
   "outputs": [],
   "source": [
    "from html_table import Table, Row, Cell"
   ]
  },
  {
   "cell_type": "code",
   "execution_count": 142,
   "metadata": {},
   "outputs": [],
   "source": [
    "MAIN_DIR = pathlib.Path('/nfs/brubeck.bx.psu.edu/scratch4/nick/overlaps/auto/ecoli')\n",
    "CSV_PATH = MAIN_DIR/'sra.runinfo3.csv.gz'\n",
    "XML_PATH = MAIN_DIR/'sra.docsum2.xml.gz'"
   ]
  },
  {
   "cell_type": "markdown",
   "metadata": {},
   "source": [
    "## Reading metadata"
   ]
  },
  {
   "cell_type": "code",
   "execution_count": 3,
   "metadata": {},
   "outputs": [],
   "source": [
    "def read_runinfo(csv_path):\n",
    "  start = time.perf_counter()\n",
    "  int_fields = {'spots', 'spots_with_mates', 'avgLength', 'size_MB', 'InsertSize', 'InsertDev', 'ProjectID', 'TaxID'}\n",
    "  runs = {}\n",
    "  header = {}\n",
    "  empty_lines = 0\n",
    "  header_lines = 0\n",
    "  try:\n",
    "    with gzip.open(csv_path, 'rt') as csv_file:\n",
    "      for row in csv.reader(csv_file):\n",
    "        if not header:\n",
    "          header_lines += 1\n",
    "          for i, value in enumerate(row):\n",
    "            header[i] = value\n",
    "          RunInfo = collections.namedtuple('RunInfo', header.values())\n",
    "          continue\n",
    "        if len(row) == 0:\n",
    "          empty_lines += 1\n",
    "          continue\n",
    "        assert len(row) == len(header), (len(row), row)\n",
    "        header_matches = 0\n",
    "        value_dict = {}\n",
    "        for i, raw_value in enumerate(row):\n",
    "          if raw_value == header[i]:\n",
    "            header_matches += 1\n",
    "          else:\n",
    "            if header[i] in int_fields:\n",
    "              try:\n",
    "                value = int(raw_value)\n",
    "              except ValueError:\n",
    "                if header[i] == 'InsertDev':\n",
    "                  value = float(raw_value)\n",
    "                else:\n",
    "                  print(f'{header[i]}: {raw_value!r}', file=sys.stderr)\n",
    "            else:\n",
    "              value = raw_value\n",
    "          value_dict[header[i]] = value\n",
    "        if header_matches > 5:\n",
    "          header_lines += 1\n",
    "          continue\n",
    "        runs[value_dict['Run']] = RunInfo(**value_dict)\n",
    "  except EOFError:\n",
    "    print('Incomplete gzip.', file=sys.stderr)\n",
    "  elapsed = time.perf_counter() - start\n",
    "  print(f'{len(runs)} runs in {elapsed:0.1f} seconds (headers: {header_lines}, empty lines: {empty_lines})')\n",
    "  return runs"
   ]
  },
  {
   "cell_type": "code",
   "execution_count": 4,
   "metadata": {},
   "outputs": [],
   "source": [
    "def read_xml(xml_path):\n",
    "  start = time.perf_counter()\n",
    "  summaries = {}\n",
    "  with gzip.open(xml_path) as xml_file:\n",
    "    # Note: This takes about 1-2GB of memory.\n",
    "    tree = xml.etree.ElementTree.parse(xml_file)\n",
    "  docsum = tree.getroot()\n",
    "  for exp in docsum:\n",
    "    for run in exp.find('./Runs'):\n",
    "      acc = run.attrib['acc']\n",
    "      summaries[acc] = exp\n",
    "  elapsed = time.perf_counter() - start\n",
    "  print(f'{len(summaries)} experiments in {round(elapsed)} seconds')\n",
    "  return summaries"
   ]
  },
  {
   "cell_type": "code",
   "execution_count": 5,
   "metadata": {},
   "outputs": [],
   "source": [
    "def rm_prefix(string, prefix):\n",
    "  if string.startswith(prefix):\n",
    "    return string[len(prefix):]\n",
    "  else:\n",
    "    return string"
   ]
  },
  {
   "cell_type": "code",
   "execution_count": 93,
   "metadata": {},
   "outputs": [],
   "source": [
    "def truncate(string, max_len):\n",
    "  if len(string) > max_len:\n",
    "    return string[:max_len-1]+'…'\n",
    "  else:\n",
    "    return string"
   ]
  },
  {
   "cell_type": "markdown",
   "metadata": {},
   "source": [
    "## Read in the metadata"
   ]
  },
  {
   "cell_type": "code",
   "execution_count": 6,
   "metadata": {},
   "outputs": [
    {
     "name": "stdout",
     "output_type": "stream",
     "text": [
      "186022 runs in 11.7 seconds (headers: 1, empty lines: 0)\n"
     ]
    }
   ],
   "source": [
    "RUNS = read_runinfo(CSV_PATH)"
   ]
  },
  {
   "cell_type": "code",
   "execution_count": 7,
   "metadata": {},
   "outputs": [
    {
     "name": "stdout",
     "output_type": "stream",
     "text": [
      "186022 experiments in 43 seconds\n"
     ]
    }
   ],
   "source": [
    "SUMMARIES = read_xml(XML_PATH)"
   ]
  },
  {
   "cell_type": "markdown",
   "metadata": {},
   "source": [
    "## Reading todo/launched/done lists"
   ]
  },
  {
   "cell_type": "code",
   "execution_count": 8,
   "metadata": {},
   "outputs": [],
   "source": [
    "def read_file_as_list(list_path):\n",
    "  line_list = []\n",
    "  with list_path.open() as list_file:\n",
    "    for line_raw in list_file:\n",
    "      line_list.append(line_raw.strip())\n",
    "  return line_list"
   ]
  },
  {
   "cell_type": "code",
   "execution_count": 9,
   "metadata": {},
   "outputs": [],
   "source": [
    "def subtract_lists(list1: list, *lists) -> list:\n",
    "  \"\"\"Return a copy of `list1` but remove any items present in the other lists.\"\"\"\n",
    "  new_list = []\n",
    "  remove_these: Set[list] = set()\n",
    "  for list2 in lists:\n",
    "    remove_these |= set(list2)\n",
    "  for item in list1:\n",
    "    if item not in remove_these:\n",
    "      new_list.append(item)\n",
    "  return new_list"
   ]
  },
  {
   "cell_type": "markdown",
   "metadata": {},
   "source": [
    "## Overlap calculations"
   ]
  },
  {
   "cell_type": "code",
   "execution_count": 10,
   "metadata": {},
   "outputs": [],
   "source": [
    "def get_overlap(run, null=None, neg=True):\n",
    "  readlen = run.avgLength//2\n",
    "  if run.InsertSize == 0 or readlen == 0:\n",
    "    return null\n",
    "  overlap = min(readlen, run.InsertSize, readlen*2 - run.InsertSize)\n",
    "  if neg:\n",
    "    return overlap\n",
    "  else:\n",
    "    return max(0, overlap)"
   ]
  },
  {
   "cell_type": "code",
   "execution_count": 11,
   "metadata": {},
   "outputs": [],
   "source": [
    "def sort_key(acc):\n",
    "  \"\"\"Get a sort key based on the overlap metadata.\"\"\"\n",
    "  run = RUNS[acc]\n",
    "  if run.avgLength == 0:\n",
    "    has_len = 0\n",
    "  else:\n",
    "    has_len = 1\n",
    "  if run.InsertSize == 0:\n",
    "    has_size = 0\n",
    "  else:\n",
    "    has_size = 1\n",
    "  if run.InsertDev == 0:\n",
    "    has_dev = 0\n",
    "  else:\n",
    "    has_dev = 1\n",
    "  return has_len, has_size, has_dev, get_overlap(run), -run.InsertDev"
   ]
  },
  {
   "cell_type": "markdown",
   "metadata": {},
   "source": [
    "## Reading group metadata"
   ]
  },
  {
   "cell_type": "code",
   "execution_count": 97,
   "metadata": {},
   "outputs": [],
   "source": [
    "ABBREVIATIONS = {\n",
    "  'European':'Euro.', 'Nucleotide':'Nuc.', 'Institute':'Inst.', 'Technology':'Tech.', 'The Pennsylvania':'Penn',\n",
    "  'University':'Univ.', 'National':'Nat.', 'Department':'Dept.', 'Technological':'Tech.', 'Laboratory':'Lab.',\n",
    "  'Biotechnology':'Biotech.',\n",
    "}\n",
    "class Study(collections.namedtuple('Study', ('title', 'study', 'center', 'lab', 'contact'))):\n",
    "  __slots__ = ()\n",
    "  @property\n",
    "  def submitter(self):\n",
    "    return (self.center, self.lab, self.contact)\n",
    "  @classmethod\n",
    "  def from_accession(cls, accession, summaries=SUMMARIES):\n",
    "    try:\n",
    "      experiment = summaries[accession]\n",
    "    except KeyError:\n",
    "      sys.stderr.write(f'Warning: Could not find XML summary for {accession}\\n')\n",
    "      raise\n",
    "    return cls.from_experiment(experiment)\n",
    "  @classmethod\n",
    "  def from_experiment(cls, experiment):\n",
    "    data = {'title':None, 'study':None, 'center':None, 'lab':None, 'contact':None}\n",
    "    if not experiment:\n",
    "      return cls(**data)\n",
    "    data['title'] = experiment.find('./ExpXml/Summary/Title').text\n",
    "    study_elem = experiment.find('./ExpXml/Study')\n",
    "    data['study'] = study_elem.attrib.get('name')\n",
    "    subm_elem = experiment.find('./ExpXml/Submitter')\n",
    "    for field in 'center', 'lab', 'contact':\n",
    "      data[field] = subm_elem.attrib.get(field+'_name')\n",
    "    return cls(**data)\n",
    "  def format_fields(self, max_len=None, null='?'):\n",
    "    \"\"\"Return a copy with the fields formatted for human reading.\"\"\"\n",
    "    strs = {}\n",
    "    for field in self._fields:\n",
    "      value = raw_value = getattr(self, field)\n",
    "      if raw_value is None:\n",
    "        value = null\n",
    "      strs[field] = value\n",
    "    # This is a common prefix that's lengthy and not too informative.\n",
    "    strs['title'] = rm_prefix(strs['title'], 'Illumina MiSeq paired end sequencing; ')\n",
    "    for field in 'center', 'lab', 'contact':\n",
    "      value = raw_value = strs[field]\n",
    "      # If it's all uppercase, make it titlecased to be easier to read.\n",
    "      if len(raw_value) > 16 and raw_value == raw_value.upper():\n",
    "        value = raw_value.title()\n",
    "      for long, short in ABBREVIATIONS.items():\n",
    "        value = value.replace(long, short)\n",
    "      strs[field] = value\n",
    "    if max_len is not None:\n",
    "      for field, value in strs.items():\n",
    "        strs[field] = truncate(value, max_len)\n",
    "    return type(self)(**strs)"
   ]
  },
  {
   "cell_type": "markdown",
   "metadata": {},
   "source": [
    "## Checking run completion"
   ]
  },
  {
   "cell_type": "markdown",
   "metadata": {},
   "source": [
    "### Dealing with `progress.ini`"
   ]
  },
  {
   "cell_type": "code",
   "execution_count": 149,
   "metadata": {},
   "outputs": [],
   "source": [
    "PROGRESS_TYPES = {\n",
    "  'step':int, 'when':int, 'timestamp':int,\n",
    "  'start_step':int, 'start_time':int, 'end_step':int, 'end_time':int, 'commit_time':int,\n",
    "}\n",
    "def read_progress(progress_path):\n",
    "  raw_progress = read_config(progress_path, PROGRESS_TYPES)\n",
    "  return convert_progress(raw_progress)"
   ]
  },
  {
   "cell_type": "code",
   "execution_count": 148,
   "metadata": {},
   "outputs": [],
   "source": [
    "def read_config(config_path, types):\n",
    "  data = {}\n",
    "  config = configparser.ConfigParser(interpolation=None)\n",
    "  try:\n",
    "    config.read(config_path)\n",
    "    for section in config.sections():\n",
    "      for key, raw_value in config.items(section):\n",
    "        if types and key in types:\n",
    "          value = types[key](raw_value)\n",
    "        else:\n",
    "          value = raw_value\n",
    "        try:\n",
    "          data[section][key] = value\n",
    "        except KeyError:\n",
    "          data[section] = {key:value}\n",
    "  except configparser.Error:\n",
    "    logging.critical(f'Error: Invalid config file format in {config_path!r}.')\n",
    "    raise\n",
    "  return data"
   ]
  },
  {
   "cell_type": "code",
   "execution_count": 154,
   "metadata": {},
   "outputs": [],
   "source": [
    "def convert_progress(progress):\n",
    "  \"\"\"Convert old progress structure to the new one, if necessary.\"\"\"\n",
    "  if any([section.startswith('run') for section in progress.keys()]):\n",
    "    # It's the new format.\n",
    "    return progress\n",
    "  mapping = {\n",
    "    ('start', 'step'): 'start_step',\n",
    "    ('start', 'when'): 'start_time',\n",
    "    ('end', 'step'): 'end_step',\n",
    "    ('end', 'when'): 'end_time',\n",
    "    ('version', 'timestamp'): 'commit_time',\n",
    "    ('version', 'commit'): 'commit',\n",
    "  }\n",
    "  run0 = {}\n",
    "  for section_name, section in progress.items():\n",
    "    for key, value in section.items():\n",
    "      new_key = mapping.get((section_name, key), f'{section_name}_{key}')\n",
    "      run0[new_key] = value\n",
    "  if run0:\n",
    "    return {'run0':run0}\n",
    "  else:\n",
    "    return {}"
   ]
  },
  {
   "cell_type": "code",
   "execution_count": 182,
   "metadata": {},
   "outputs": [],
   "source": [
    "def get_last_step(progress):\n",
    "  section = get_last_section(progress)\n",
    "  if section is not None:\n",
    "    return section.get('end_step')"
   ]
  },
  {
   "cell_type": "code",
   "execution_count": 159,
   "metadata": {},
   "outputs": [],
   "source": [
    "def get_last_section(progress):\n",
    "  last_run = None\n",
    "  last_section = None\n",
    "  for name, section in progress.items():\n",
    "    if name.startswith('run'):\n",
    "      run = int(name[3:])\n",
    "      if last_run is None or run > last_run:\n",
    "        last_run = run\n",
    "        last_section = section\n",
    "  return last_section"
   ]
  },
  {
   "cell_type": "code",
   "execution_count": 179,
   "metadata": {},
   "outputs": [],
   "source": [
    "def get_version(progress):\n",
    "  section = get_last_section(progress)\n",
    "  commit_time = section.get('commit_time')\n",
    "  start_time = section.get('start_time')\n",
    "  if (commit_time and commit_time < 1577854800) or (start_time and start_time < 1577854800):\n",
    "    return 'old'\n",
    "  else:\n",
    "    return 'new'"
   ]
  },
  {
   "cell_type": "markdown",
   "metadata": {},
   "source": [
    "### Checking other signals of completion"
   ]
  },
  {
   "cell_type": "code",
   "execution_count": 164,
   "metadata": {},
   "outputs": [],
   "source": [
    "OUTFILES = (                 # Step\n",
    "  'reads_1.fastq',           # 1\n",
    "  'align.auto.bam',          # 2\n",
    "  'errors.tsv',              # 3\n",
    "  'seq-context.tsv',         # 4\n",
    "  'seq-context-summary.tsv', # 5\n",
    "  'analysis.tsv',            # 6\n",
    ")"
   ]
  },
  {
   "cell_type": "code",
   "execution_count": 172,
   "metadata": {},
   "outputs": [],
   "source": [
    "def get_last_step_by_file(run_dir, version='new'):\n",
    "  \"\"\"Look at the output files to see how far the pipeline actually got.\"\"\"\n",
    "  confirmed_step = None\n",
    "  for step, filename in enumerate(OUTFILES, 1):\n",
    "    path = run_dir/filename\n",
    "    if path.is_file() and os.path.getsize(path) > 0:\n",
    "      if version == 'old' and step == 6:\n",
    "        confirmed_step = 5\n",
    "      else:\n",
    "        confirmed_step = step\n",
    "  return confirmed_step"
   ]
  },
  {
   "cell_type": "code",
   "execution_count": 203,
   "metadata": {},
   "outputs": [],
   "source": [
    "def found_no_errors(run_dir):\n",
    "  summary_path = run_dir/'errors.summary.tsv'\n",
    "  if summary_path.is_file():\n",
    "    with summary_path.open() as summary_file:\n",
    "      for line_num, line_raw in enumerate(summary_file):\n",
    "        if line_num == 2:\n",
    "          fields = line_raw.split('\\t')\n",
    "          if fields[0] == '0':\n",
    "            return True\n",
    "  else:\n",
    "    cmd = ('grep', '-c', '^error', run_dir/'errors.tsv')\n",
    "    result = subprocess.run(cmd, stdout=subprocess.PIPE, encoding='utf8')\n",
    "    if result.stdout == '0\\n':\n",
    "      return True\n",
    "  return False"
   ]
  },
  {
   "cell_type": "code",
   "execution_count": 211,
   "metadata": {},
   "outputs": [],
   "source": [
    "def is_done(run_dir):\n",
    "  progress = read_progress(run_dir/'progress.ini')\n",
    "  version = get_version(progress)\n",
    "  last_step_recorded = get_last_step(progress)\n",
    "  last_step_seen = get_last_step_by_file(run_dir, version=version)\n",
    "  if last_step_recorded is None or last_step_seen is None:\n",
    "    return False\n",
    "  last_step = min(last_step_recorded, last_step_seen)\n",
    "  if last_step == 3:\n",
    "    if found_no_errors(run_dir):\n",
    "      return True\n",
    "  if version == 'old':\n",
    "    return last_step == 5\n",
    "  else:\n",
    "    return last_step == 6\n",
    "  return False"
   ]
  },
  {
   "cell_type": "markdown",
   "metadata": {},
   "source": [
    "## Display"
   ]
  },
  {
   "cell_type": "code",
   "execution_count": 128,
   "metadata": {},
   "outputs": [],
   "source": [
    "def display_runs(accessions, max_len=None, runs=RUNS, summaries=SUMMARIES):\n",
    "  rows = []\n",
    "  for acc in accessions[:20]:\n",
    "    run = runs[acc]\n",
    "    model = rm_prefix(run.Model, 'Illumina ')\n",
    "    study = Study.from_accession(acc, summaries=summaries).format_fields(max_len=max_len)\n",
    "    rlen = run.avgLength//2\n",
    "    row = (acc, model, run.size_MB, get_overlap(run), rlen, run.InsertSize, study.center, study.lab, study.contact)\n",
    "    rows.append(row)\n",
    "  header = (\n",
    "    'Accession', 'Model', 'Size<br>(MB)', 'Overlap', 'Read<br>Length', 'Insert<br>Size',\n",
    "    'Center', 'Lab', 'Contact'\n",
    "  )\n",
    "  return Table(rows, header=header)"
   ]
  },
  {
   "cell_type": "markdown",
   "metadata": {},
   "source": [
    "# Generate new todo list"
   ]
  },
  {
   "cell_type": "markdown",
   "metadata": {},
   "source": [
    "## Read in lists"
   ]
  },
  {
   "cell_type": "code",
   "execution_count": 13,
   "metadata": {},
   "outputs": [],
   "source": [
    "everything = list(RUNS.keys())"
   ]
  },
  {
   "cell_type": "code",
   "execution_count": 14,
   "metadata": {},
   "outputs": [],
   "source": [
    "launched = read_file_as_list(MAIN_DIR/'meta/launched.txt')\n",
    "done     = read_file_as_list(MAIN_DIR/'meta/done.txt')"
   ]
  },
  {
   "cell_type": "code",
   "execution_count": 16,
   "metadata": {},
   "outputs": [],
   "source": [
    "todo_unsorted = subtract_lists(everything, launched, done)"
   ]
  },
  {
   "cell_type": "code",
   "execution_count": 17,
   "metadata": {},
   "outputs": [
    {
     "data": {
      "text/plain": [
       "184264"
      ]
     },
     "execution_count": 17,
     "metadata": {},
     "output_type": "execute_result"
    }
   ],
   "source": [
    "len(todo_unsorted)"
   ]
  },
  {
   "cell_type": "code",
   "execution_count": 121,
   "metadata": {},
   "outputs": [
    {
     "data": {
      "text/html": [
       "<table style=\"text-align: left\">\n",
       "  <thead style=\"text-align: left; font-weight: bold\">\n",
       "    <tr style=\"text-align: left\">\n",
       "      <th scope=\"col\" style=\"text-align: left\">Accession</th>\n",
       "      <th scope=\"col\" style=\"text-align: left\">Model</th>\n",
       "      <th scope=\"col\" style=\"text-align: left\">Size<br>(MB)</th>\n",
       "      <th scope=\"col\" style=\"text-align: left\">Overlap</th>\n",
       "      <th scope=\"col\" style=\"text-align: left\">Read<br>Length</th>\n",
       "      <th scope=\"col\" style=\"text-align: left\">Insert<br>Size</th>\n",
       "      <th scope=\"col\" style=\"text-align: left\">Center</th>\n",
       "      <th scope=\"col\" style=\"text-align: left\">Lab</th>\n",
       "      <th scope=\"col\" style=\"text-align: left\">Contact</th>\n",
       "    </tr>\n",
       "  </thead>\n",
       "  <tbody style=\"text-align: left\">\n",
       "    <tr style=\"text-align: left\">\n",
       "      <td style=\"text-align: left\">SRR12549494</td>\n",
       "      <td style=\"text-align: left\">NovaSeq 6000</td>\n",
       "      <td style=\"text-align: right\">123</td>\n",
       "      <td style=\"text-align: left\"></td>\n",
       "      <td style=\"text-align: right\">149</td>\n",
       "      <td style=\"text-align: right\">0</td>\n",
       "      <td style=\"text-align: left\">Univ. of Illinois at Urbana-Champaign</td>\n",
       "      <td style=\"text-align: left\">Civil and Environmental Engineering</td>\n",
       "      <td style=\"text-align: left\">Yue Xing</td>\n",
       "    </tr>\n",
       "    <tr style=\"text-align: left\">\n",
       "      <td style=\"text-align: left\">SRR12549500</td>\n",
       "      <td style=\"text-align: left\">NovaSeq 6000</td>\n",
       "      <td style=\"text-align: right\">140</td>\n",
       "      <td style=\"text-align: left\"></td>\n",
       "      <td style=\"text-align: right\">149</td>\n",
       "      <td style=\"text-align: right\">0</td>\n",
       "      <td style=\"text-align: left\">Univ. of Illinois at Urbana-Champaign</td>\n",
       "      <td style=\"text-align: left\">Civil and Environmental Engineering</td>\n",
       "      <td style=\"text-align: left\">Yue Xing</td>\n",
       "    </tr>\n",
       "    <tr style=\"text-align: left\">\n",
       "      <td style=\"text-align: left\">SRR12549499</td>\n",
       "      <td style=\"text-align: left\">NovaSeq 6000</td>\n",
       "      <td style=\"text-align: right\">132</td>\n",
       "      <td style=\"text-align: left\"></td>\n",
       "      <td style=\"text-align: right\">149</td>\n",
       "      <td style=\"text-align: right\">0</td>\n",
       "      <td style=\"text-align: left\">Univ. of Illinois at Urbana-Champaign</td>\n",
       "      <td style=\"text-align: left\">Civil and Environmental Engineering</td>\n",
       "      <td style=\"text-align: left\">Yue Xing</td>\n",
       "    </tr>\n",
       "    <tr style=\"text-align: left\">\n",
       "      <td style=\"text-align: left\">SRR12549498</td>\n",
       "      <td style=\"text-align: left\">NovaSeq 6000</td>\n",
       "      <td style=\"text-align: right\">137</td>\n",
       "      <td style=\"text-align: left\"></td>\n",
       "      <td style=\"text-align: right\">149</td>\n",
       "      <td style=\"text-align: right\">0</td>\n",
       "      <td style=\"text-align: left\">Univ. of Illinois at Urbana-Champaign</td>\n",
       "      <td style=\"text-align: left\">Civil and Environmental Engineering</td>\n",
       "      <td style=\"text-align: left\">Yue Xing</td>\n",
       "    </tr>\n",
       "    <tr style=\"text-align: left\">\n",
       "      <td style=\"text-align: left\">SRR12549493</td>\n",
       "      <td style=\"text-align: left\">NovaSeq 6000</td>\n",
       "      <td style=\"text-align: right\">133</td>\n",
       "      <td style=\"text-align: left\"></td>\n",
       "      <td style=\"text-align: right\">149</td>\n",
       "      <td style=\"text-align: right\">0</td>\n",
       "      <td style=\"text-align: left\">Univ. of Illinois at Urbana-Champaign</td>\n",
       "      <td style=\"text-align: left\">Civil and Environmental Engineering</td>\n",
       "      <td style=\"text-align: left\">Yue Xing</td>\n",
       "    </tr>\n",
       "    <tr style=\"text-align: left\">\n",
       "      <td style=\"text-align: left\">SRR12549492</td>\n",
       "      <td style=\"text-align: left\">NovaSeq 6000</td>\n",
       "      <td style=\"text-align: right\">121</td>\n",
       "      <td style=\"text-align: left\"></td>\n",
       "      <td style=\"text-align: right\">149</td>\n",
       "      <td style=\"text-align: right\">0</td>\n",
       "      <td style=\"text-align: left\">Univ. of Illinois at Urbana-Champaign</td>\n",
       "      <td style=\"text-align: left\">Civil and Environmental Engineering</td>\n",
       "      <td style=\"text-align: left\">Yue Xing</td>\n",
       "    </tr>\n",
       "    <tr style=\"text-align: left\">\n",
       "      <td style=\"text-align: left\">SRR12549497</td>\n",
       "      <td style=\"text-align: left\">NovaSeq 6000</td>\n",
       "      <td style=\"text-align: right\">139</td>\n",
       "      <td style=\"text-align: left\"></td>\n",
       "      <td style=\"text-align: right\">149</td>\n",
       "      <td style=\"text-align: right\">0</td>\n",
       "      <td style=\"text-align: left\">Univ. of Illinois at Urbana-Champaign</td>\n",
       "      <td style=\"text-align: left\">Civil and Environmental Engineering</td>\n",
       "      <td style=\"text-align: left\">Yue Xing</td>\n",
       "    </tr>\n",
       "    <tr style=\"text-align: left\">\n",
       "      <td style=\"text-align: left\">SRR12549496</td>\n",
       "      <td style=\"text-align: left\">NovaSeq 6000</td>\n",
       "      <td style=\"text-align: right\">139</td>\n",
       "      <td style=\"text-align: left\"></td>\n",
       "      <td style=\"text-align: right\">149</td>\n",
       "      <td style=\"text-align: right\">0</td>\n",
       "      <td style=\"text-align: left\">Univ. of Illinois at Urbana-Champaign</td>\n",
       "      <td style=\"text-align: left\">Civil and Environmental Engineering</td>\n",
       "      <td style=\"text-align: left\">Yue Xing</td>\n",
       "    </tr>\n",
       "    <tr style=\"text-align: left\">\n",
       "      <td style=\"text-align: left\">SRR12549495</td>\n",
       "      <td style=\"text-align: left\">NovaSeq 6000</td>\n",
       "      <td style=\"text-align: right\">120</td>\n",
       "      <td style=\"text-align: left\"></td>\n",
       "      <td style=\"text-align: right\">149</td>\n",
       "      <td style=\"text-align: right\">0</td>\n",
       "      <td style=\"text-align: left\">Univ. of Illinois at Urbana-Champaign</td>\n",
       "      <td style=\"text-align: left\">Civil and Environmental Engineering</td>\n",
       "      <td style=\"text-align: left\">Yue Xing</td>\n",
       "    </tr>\n",
       "    <tr style=\"text-align: left\">\n",
       "      <td style=\"text-align: left\">SRR12541342</td>\n",
       "      <td style=\"text-align: left\">HiSeq 2500</td>\n",
       "      <td style=\"text-align: right\">278</td>\n",
       "      <td style=\"text-align: left\"></td>\n",
       "      <td style=\"text-align: right\">148</td>\n",
       "      <td style=\"text-align: right\">0</td>\n",
       "      <td style=\"text-align: left\">PHE</td>\n",
       "      <td style=\"text-align: left\"></td>\n",
       "      <td style=\"text-align: left\"></td>\n",
       "    </tr>\n",
       "    <tr style=\"text-align: left\">\n",
       "      <td style=\"text-align: left\">SRR12541344</td>\n",
       "      <td style=\"text-align: left\">HiSeq 2500</td>\n",
       "      <td style=\"text-align: right\">311</td>\n",
       "      <td style=\"text-align: left\"></td>\n",
       "      <td style=\"text-align: right\">147</td>\n",
       "      <td style=\"text-align: right\">0</td>\n",
       "      <td style=\"text-align: left\">PHE</td>\n",
       "      <td style=\"text-align: left\"></td>\n",
       "      <td style=\"text-align: left\"></td>\n",
       "    </tr>\n",
       "    <tr style=\"text-align: left\">\n",
       "      <td style=\"text-align: left\">SRR12541352</td>\n",
       "      <td style=\"text-align: left\">HiSeq 2500</td>\n",
       "      <td style=\"text-align: right\">330</td>\n",
       "      <td style=\"text-align: left\"></td>\n",
       "      <td style=\"text-align: right\">147</td>\n",
       "      <td style=\"text-align: right\">0</td>\n",
       "      <td style=\"text-align: left\">PHE</td>\n",
       "      <td style=\"text-align: left\"></td>\n",
       "      <td style=\"text-align: left\"></td>\n",
       "    </tr>\n",
       "  </tbody>\n",
       "</table>"
      ],
      "text/plain": [
       "<IPython.core.display.HTML object>"
      ]
     },
     "execution_count": 121,
     "metadata": {},
     "output_type": "execute_result"
    }
   ],
   "source": [
    "display_runs(todo_unsorted[:12]).render()"
   ]
  },
  {
   "cell_type": "markdown",
   "metadata": {},
   "source": [
    "## Sort by overlap length"
   ]
  },
  {
   "cell_type": "code",
   "execution_count": 19,
   "metadata": {},
   "outputs": [],
   "source": [
    "todo_overlap_sorted = sorted(todo_unsorted, key=sort_key, reverse=True)"
   ]
  },
  {
   "cell_type": "code",
   "execution_count": 122,
   "metadata": {},
   "outputs": [
    {
     "data": {
      "text/html": [
       "<table style=\"text-align: left\">\n",
       "  <thead style=\"text-align: left; font-weight: bold\">\n",
       "    <tr style=\"text-align: left\">\n",
       "      <th scope=\"col\" style=\"text-align: left\">Accession</th>\n",
       "      <th scope=\"col\" style=\"text-align: left\">Model</th>\n",
       "      <th scope=\"col\" style=\"text-align: left\">Size<br>(MB)</th>\n",
       "      <th scope=\"col\" style=\"text-align: left\">Overlap</th>\n",
       "      <th scope=\"col\" style=\"text-align: left\">Read<br>Length</th>\n",
       "      <th scope=\"col\" style=\"text-align: left\">Insert<br>Size</th>\n",
       "      <th scope=\"col\" style=\"text-align: left\">Center</th>\n",
       "      <th scope=\"col\" style=\"text-align: left\">Lab</th>\n",
       "      <th scope=\"col\" style=\"text-align: left\">Contact</th>\n",
       "    </tr>\n",
       "  </thead>\n",
       "  <tbody style=\"text-align: left\">\n",
       "    <tr style=\"text-align: left\">\n",
       "      <td style=\"text-align: left\">SRR1217262</td>\n",
       "      <td style=\"text-align: left\">HiSeq 2500</td>\n",
       "      <td style=\"text-align: right\">196</td>\n",
       "      <td style=\"text-align: right\">200</td>\n",
       "      <td style=\"text-align: right\">239</td>\n",
       "      <td style=\"text-align: right\">200</td>\n",
       "      <td style=\"text-align: left\">Penn State Univ.</td>\n",
       "      <td style=\"text-align: left\">Mwangi Lab</td>\n",
       "      <td style=\"text-align: left\">Juan Antonio Raygoza Garay</td>\n",
       "    </tr>\n",
       "    <tr style=\"text-align: left\">\n",
       "      <td style=\"text-align: left\">SRR1217264</td>\n",
       "      <td style=\"text-align: left\">HiSeq 2500</td>\n",
       "      <td style=\"text-align: right\">180</td>\n",
       "      <td style=\"text-align: right\">200</td>\n",
       "      <td style=\"text-align: right\">239</td>\n",
       "      <td style=\"text-align: right\">200</td>\n",
       "      <td style=\"text-align: left\">Penn State Univ.</td>\n",
       "      <td style=\"text-align: left\">Mwangi Lab</td>\n",
       "      <td style=\"text-align: left\">Juan Antonio Raygoza Garay</td>\n",
       "    </tr>\n",
       "    <tr style=\"text-align: left\">\n",
       "      <td style=\"text-align: left\">SRR1217273</td>\n",
       "      <td style=\"text-align: left\">HiSeq 2500</td>\n",
       "      <td style=\"text-align: right\">182</td>\n",
       "      <td style=\"text-align: right\">200</td>\n",
       "      <td style=\"text-align: right\">239</td>\n",
       "      <td style=\"text-align: right\">200</td>\n",
       "      <td style=\"text-align: left\">Penn State Univ.</td>\n",
       "      <td style=\"text-align: left\">Mwangi Lab</td>\n",
       "      <td style=\"text-align: left\">Juan Antonio Raygoza Garay</td>\n",
       "    </tr>\n",
       "    <tr style=\"text-align: left\">\n",
       "      <td style=\"text-align: left\">SRR1217276</td>\n",
       "      <td style=\"text-align: left\">HiSeq 2500</td>\n",
       "      <td style=\"text-align: right\">175</td>\n",
       "      <td style=\"text-align: right\">200</td>\n",
       "      <td style=\"text-align: right\">239</td>\n",
       "      <td style=\"text-align: right\">200</td>\n",
       "      <td style=\"text-align: left\">Penn State Univ.</td>\n",
       "      <td style=\"text-align: left\">Mwangi Lab</td>\n",
       "      <td style=\"text-align: left\">Juan Antonio Raygoza Garay</td>\n",
       "    </tr>\n",
       "    <tr style=\"text-align: left\">\n",
       "      <td style=\"text-align: left\">SRR1217277</td>\n",
       "      <td style=\"text-align: left\">HiSeq 2500</td>\n",
       "      <td style=\"text-align: right\">193</td>\n",
       "      <td style=\"text-align: right\">200</td>\n",
       "      <td style=\"text-align: right\">239</td>\n",
       "      <td style=\"text-align: right\">200</td>\n",
       "      <td style=\"text-align: left\">Penn State Univ.</td>\n",
       "      <td style=\"text-align: left\">Mwangi Lab</td>\n",
       "      <td style=\"text-align: left\">Juan Antonio Raygoza Garay</td>\n",
       "    </tr>\n",
       "    <tr style=\"text-align: left\">\n",
       "      <td style=\"text-align: left\">SRR1217278</td>\n",
       "      <td style=\"text-align: left\">HiSeq 2500</td>\n",
       "      <td style=\"text-align: right\">164</td>\n",
       "      <td style=\"text-align: right\">200</td>\n",
       "      <td style=\"text-align: right\">239</td>\n",
       "      <td style=\"text-align: right\">200</td>\n",
       "      <td style=\"text-align: left\">Penn State Univ.</td>\n",
       "      <td style=\"text-align: left\">Mwangi Lab</td>\n",
       "      <td style=\"text-align: left\">Juan Antonio Raygoza Garay</td>\n",
       "    </tr>\n",
       "    <tr style=\"text-align: left\">\n",
       "      <td style=\"text-align: left\">SRR1217279</td>\n",
       "      <td style=\"text-align: left\">HiSeq 2500</td>\n",
       "      <td style=\"text-align: right\">173</td>\n",
       "      <td style=\"text-align: right\">200</td>\n",
       "      <td style=\"text-align: right\">239</td>\n",
       "      <td style=\"text-align: right\">200</td>\n",
       "      <td style=\"text-align: left\">Penn State Univ.</td>\n",
       "      <td style=\"text-align: left\">Mwangi Lab</td>\n",
       "      <td style=\"text-align: left\">Juan Antonio Raygoza Garay</td>\n",
       "    </tr>\n",
       "    <tr style=\"text-align: left\">\n",
       "      <td style=\"text-align: left\">SRR1217280</td>\n",
       "      <td style=\"text-align: left\">HiSeq 2500</td>\n",
       "      <td style=\"text-align: right\">153</td>\n",
       "      <td style=\"text-align: right\">200</td>\n",
       "      <td style=\"text-align: right\">239</td>\n",
       "      <td style=\"text-align: right\">200</td>\n",
       "      <td style=\"text-align: left\">Penn State Univ.</td>\n",
       "      <td style=\"text-align: left\">Mwangi Lab</td>\n",
       "      <td style=\"text-align: left\">Juan Antonio Raygoza Garay</td>\n",
       "    </tr>\n",
       "    <tr style=\"text-align: left\">\n",
       "      <td style=\"text-align: left\">SRR1217281</td>\n",
       "      <td style=\"text-align: left\">HiSeq 2500</td>\n",
       "      <td style=\"text-align: right\">158</td>\n",
       "      <td style=\"text-align: right\">200</td>\n",
       "      <td style=\"text-align: right\">239</td>\n",
       "      <td style=\"text-align: right\">200</td>\n",
       "      <td style=\"text-align: left\">Penn State Univ.</td>\n",
       "      <td style=\"text-align: left\">Mwangi Lab</td>\n",
       "      <td style=\"text-align: left\">Juan Antonio Raygoza Garay</td>\n",
       "    </tr>\n",
       "    <tr style=\"text-align: left\">\n",
       "      <td style=\"text-align: left\">SRR1217284</td>\n",
       "      <td style=\"text-align: left\">HiSeq 2500</td>\n",
       "      <td style=\"text-align: right\">155</td>\n",
       "      <td style=\"text-align: right\">200</td>\n",
       "      <td style=\"text-align: right\">239</td>\n",
       "      <td style=\"text-align: right\">200</td>\n",
       "      <td style=\"text-align: left\">Penn State Univ.</td>\n",
       "      <td style=\"text-align: left\">Mwangi Lab</td>\n",
       "      <td style=\"text-align: left\">Juan Antonio Raygoza Garay</td>\n",
       "    </tr>\n",
       "    <tr style=\"text-align: left\">\n",
       "      <td style=\"text-align: left\">SRR1217285</td>\n",
       "      <td style=\"text-align: left\">HiSeq 2500</td>\n",
       "      <td style=\"text-align: right\">162</td>\n",
       "      <td style=\"text-align: right\">200</td>\n",
       "      <td style=\"text-align: right\">239</td>\n",
       "      <td style=\"text-align: right\">200</td>\n",
       "      <td style=\"text-align: left\">Penn State Univ.</td>\n",
       "      <td style=\"text-align: left\">Mwangi Lab</td>\n",
       "      <td style=\"text-align: left\">Juan Antonio Raygoza Garay</td>\n",
       "    </tr>\n",
       "    <tr style=\"text-align: left\">\n",
       "      <td style=\"text-align: left\">SRR1217286</td>\n",
       "      <td style=\"text-align: left\">HiSeq 2500</td>\n",
       "      <td style=\"text-align: right\">151</td>\n",
       "      <td style=\"text-align: right\">200</td>\n",
       "      <td style=\"text-align: right\">239</td>\n",
       "      <td style=\"text-align: right\">200</td>\n",
       "      <td style=\"text-align: left\">Penn State Univ.</td>\n",
       "      <td style=\"text-align: left\">Mwangi Lab</td>\n",
       "      <td style=\"text-align: left\">Juan Antonio Raygoza Garay</td>\n",
       "    </tr>\n",
       "    <tr style=\"text-align: left\">\n",
       "      <td style=\"text-align: left\">DRR205447</td>\n",
       "      <td style=\"text-align: left\">MiSeq</td>\n",
       "      <td style=\"text-align: right\">2</td>\n",
       "      <td style=\"text-align: right\">168</td>\n",
       "      <td style=\"text-align: right\">182</td>\n",
       "      <td style=\"text-align: right\">196</td>\n",
       "      <td style=\"text-align: left\">NAGOYA</td>\n",
       "      <td style=\"text-align: left\">Dept. of Pathophysiological Lab. Scienc</td>\n",
       "      <td style=\"text-align: left\">Dept. of Pathophysiological Lab. Scienc</td>\n",
       "    </tr>\n",
       "    <tr style=\"text-align: left\">\n",
       "      <td style=\"text-align: left\">DRR205435</td>\n",
       "      <td style=\"text-align: left\">MiSeq</td>\n",
       "      <td style=\"text-align: right\">7</td>\n",
       "      <td style=\"text-align: right\">167</td>\n",
       "      <td style=\"text-align: right\">181</td>\n",
       "      <td style=\"text-align: right\">195</td>\n",
       "      <td style=\"text-align: left\">NAGOYA</td>\n",
       "      <td style=\"text-align: left\">Dept. of Pathophysiological Lab. Scienc</td>\n",
       "      <td style=\"text-align: left\">Dept. of Pathophysiological Lab. Scienc</td>\n",
       "    </tr>\n",
       "    <tr style=\"text-align: left\">\n",
       "      <td style=\"text-align: left\">DRR205446</td>\n",
       "      <td style=\"text-align: left\">MiSeq</td>\n",
       "      <td style=\"text-align: right\">4</td>\n",
       "      <td style=\"text-align: right\">165</td>\n",
       "      <td style=\"text-align: right\">194</td>\n",
       "      <td style=\"text-align: right\">223</td>\n",
       "      <td style=\"text-align: left\">NAGOYA</td>\n",
       "      <td style=\"text-align: left\">Dept. of Pathophysiological Lab. Scienc</td>\n",
       "      <td style=\"text-align: left\">Dept. of Pathophysiological Lab. Scienc</td>\n",
       "    </tr>\n",
       "  </tbody>\n",
       "</table>"
      ],
      "text/plain": [
       "<IPython.core.display.HTML object>"
      ]
     },
     "execution_count": 122,
     "metadata": {},
     "output_type": "execute_result"
    }
   ],
   "source": [
    "display_runs(todo_overlap_sorted[:15]).render()"
   ]
  },
  {
   "cell_type": "markdown",
   "metadata": {},
   "source": [
    "## Reorder to diversify by lab group"
   ]
  },
  {
   "cell_type": "code",
   "execution_count": 125,
   "metadata": {},
   "outputs": [],
   "source": [
    "def get_diverse_runs(accessions, runs=RUNS, summaries=SUMMARIES):\n",
    "  \"\"\"Reorder the input list to maximize the diversity in submitting group.\"\"\"\n",
    "  # Note: this relies on the new property of dicts to be ordered so that the first group used is the first that\n",
    "  # appears in the input list.\n",
    "  start = time.perf_counter()\n",
    "  acc_by_group = divide_accessions_by_group(accessions, runs=runs, summaries=summaries)\n",
    "  remaining_groups = {}\n",
    "  for group, group_list in acc_by_group.items():\n",
    "    remaining_groups[group] = group_list.copy()\n",
    "#   print('  loop  new   used  total')\n",
    "  # Keep looping through the list of groups until all the accessions are used.\n",
    "  loop = 0\n",
    "  used = used_last = 0\n",
    "  while used < len(accessions):\n",
    "    loop += 1\n",
    "    newly_finished_groups = []\n",
    "    for group, group_list in remaining_groups.items():\n",
    "      yield group_list.pop(0)\n",
    "      used += 1\n",
    "      if len(group_list) == 0:\n",
    "        newly_finished_groups.append(group)\n",
    "    for group in newly_finished_groups:\n",
    "      del remaining_groups[group]\n",
    "#     if is_tenth(loop):\n",
    "#       new = used - used_last\n",
    "#       print(f'{loop:6d} {new:4d} {used:6d} {len(accessions):6d}')\n",
    "    used_last = used\n",
    "  elapsed = time.perf_counter() - start\n",
    "  print(f'Done in {round(elapsed)} seconds')\n",
    "def divide_accessions_by_group(accessions, runs=RUNS, summaries=SUMMARIES):\n",
    "  \"\"\"Divide the list of accessions into sublists by submitting group.\"\"\"\n",
    "  acc_by_group = collections.defaultdict(list)\n",
    "  for accession in accessions:\n",
    "    study = Study.from_accession(accession)\n",
    "    acc_by_group[study.submitter].append(accession)\n",
    "  return acc_by_group\n",
    "def is_tenth(value):\n",
    "  exp = int(math.log10(value))\n",
    "  tenth = 10**exp\n",
    "  return value % tenth == 0"
   ]
  },
  {
   "cell_type": "code",
   "execution_count": 126,
   "metadata": {
    "scrolled": true
   },
   "outputs": [
    {
     "name": "stdout",
     "output_type": "stream",
     "text": [
      "Done in 6 seconds\n"
     ]
    }
   ],
   "source": [
    "todo_diversified = list(get_diverse_runs(todo_overlap_sorted))"
   ]
  },
  {
   "cell_type": "code",
   "execution_count": 131,
   "metadata": {},
   "outputs": [
    {
     "data": {
      "text/html": [
       "<table style=\"text-align: left\">\n",
       "  <thead style=\"text-align: left; font-weight: bold\">\n",
       "    <tr style=\"text-align: left\">\n",
       "      <th scope=\"col\" style=\"text-align: left\">Accession</th>\n",
       "      <th scope=\"col\" style=\"text-align: left\">Model</th>\n",
       "      <th scope=\"col\" style=\"text-align: left\">Size<br>(MB)</th>\n",
       "      <th scope=\"col\" style=\"text-align: left\">Overlap</th>\n",
       "      <th scope=\"col\" style=\"text-align: left\">Read<br>Length</th>\n",
       "      <th scope=\"col\" style=\"text-align: left\">Insert<br>Size</th>\n",
       "      <th scope=\"col\" style=\"text-align: left\">Center</th>\n",
       "      <th scope=\"col\" style=\"text-align: left\">Lab</th>\n",
       "      <th scope=\"col\" style=\"text-align: left\">Contact</th>\n",
       "    </tr>\n",
       "  </thead>\n",
       "  <tbody style=\"text-align: left\">\n",
       "    <tr style=\"text-align: left\">\n",
       "      <td style=\"text-align: left\">SRR1217262</td>\n",
       "      <td style=\"text-align: left\">HiSeq 2500</td>\n",
       "      <td style=\"text-align: right\">196</td>\n",
       "      <td style=\"text-align: right\">200</td>\n",
       "      <td style=\"text-align: right\">239</td>\n",
       "      <td style=\"text-align: right\">200</td>\n",
       "      <td style=\"text-align: left\">Penn State Univ.</td>\n",
       "      <td style=\"text-align: left\">Mwangi Lab</td>\n",
       "      <td style=\"text-align: left\">Juan Antonio Raygoza Garay</td>\n",
       "    </tr>\n",
       "    <tr style=\"text-align: left\">\n",
       "      <td style=\"text-align: left\">DRR205447</td>\n",
       "      <td style=\"text-align: left\">MiSeq</td>\n",
       "      <td style=\"text-align: right\">2</td>\n",
       "      <td style=\"text-align: right\">168</td>\n",
       "      <td style=\"text-align: right\">182</td>\n",
       "      <td style=\"text-align: right\">196</td>\n",
       "      <td style=\"text-align: left\">NAGOYA</td>\n",
       "      <td style=\"text-align: left\">Dept. of Pathophysiological Lab. …</td>\n",
       "      <td style=\"text-align: left\">Dept. of Pathophysiological Lab. …</td>\n",
       "    </tr>\n",
       "    <tr style=\"text-align: left\">\n",
       "      <td style=\"text-align: left\">SRR3385574</td>\n",
       "      <td style=\"text-align: left\">MiSeq</td>\n",
       "      <td style=\"text-align: right\">89</td>\n",
       "      <td style=\"text-align: right\">150</td>\n",
       "      <td style=\"text-align: right\">300</td>\n",
       "      <td style=\"text-align: right\">150</td>\n",
       "      <td style=\"text-align: left\">Agricultural Biotech. Center</td>\n",
       "      <td style=\"text-align: left\"></td>\n",
       "      <td style=\"text-align: left\">Tibor Nagy</td>\n",
       "    </tr>\n",
       "    <tr style=\"text-align: left\">\n",
       "      <td style=\"text-align: left\">ERR1594001</td>\n",
       "      <td style=\"text-align: left\">HiSeq 2500</td>\n",
       "      <td style=\"text-align: right\">1126</td>\n",
       "      <td style=\"text-align: right\">120</td>\n",
       "      <td style=\"text-align: right\">149</td>\n",
       "      <td style=\"text-align: right\">120</td>\n",
       "      <td style=\"text-align: left\">Systems Biology - Harvard Medical…</td>\n",
       "      <td style=\"text-align: left\">Euro. Nuc. Archive</td>\n",
       "      <td style=\"text-align: left\">Euro. Nuc. Archive</td>\n",
       "    </tr>\n",
       "    <tr style=\"text-align: left\">\n",
       "      <td style=\"text-align: left\">ERR3537783</td>\n",
       "      <td style=\"text-align: left\">MiSeq</td>\n",
       "      <td style=\"text-align: right\">511</td>\n",
       "      <td style=\"text-align: right\">104</td>\n",
       "      <td style=\"text-align: right\">250</td>\n",
       "      <td style=\"text-align: right\">104</td>\n",
       "      <td style=\"text-align: left\">Wadsworth Center</td>\n",
       "      <td style=\"text-align: left\">Euro. Nuc. Archive</td>\n",
       "      <td style=\"text-align: left\">Euro. Nuc. Archive</td>\n",
       "    </tr>\n",
       "    <tr style=\"text-align: left\">\n",
       "      <td style=\"text-align: left\">SRR1344511</td>\n",
       "      <td style=\"text-align: left\">HiSeq 2000</td>\n",
       "      <td style=\"text-align: right\">671</td>\n",
       "      <td style=\"text-align: right\">101</td>\n",
       "      <td style=\"text-align: right\">101</td>\n",
       "      <td style=\"text-align: right\">101</td>\n",
       "      <td style=\"text-align: left\">Sabanci Univ.</td>\n",
       "      <td style=\"text-align: left\">Toprak Lab</td>\n",
       "      <td style=\"text-align: left\">Yusuf Tamer</td>\n",
       "    </tr>\n",
       "    <tr style=\"text-align: left\">\n",
       "      <td style=\"text-align: left\">SRR2227327</td>\n",
       "      <td style=\"text-align: left\">HiSeq 2500</td>\n",
       "      <td style=\"text-align: right\">2100</td>\n",
       "      <td style=\"text-align: right\">100</td>\n",
       "      <td style=\"text-align: right\">100</td>\n",
       "      <td style=\"text-align: right\">100</td>\n",
       "      <td style=\"text-align: left\">UCLA</td>\n",
       "      <td style=\"text-align: left\">Ren Sun's Lab</td>\n",
       "      <td style=\"text-align: left\">Tian-Hao Zhang</td>\n",
       "    </tr>\n",
       "    <tr style=\"text-align: left\">\n",
       "      <td style=\"text-align: left\">ERR779279</td>\n",
       "      <td style=\"text-align: left\">HiSeq 2500</td>\n",
       "      <td style=\"text-align: right\">1788</td>\n",
       "      <td style=\"text-align: right\">100</td>\n",
       "      <td style=\"text-align: right\">100</td>\n",
       "      <td style=\"text-align: right\">100</td>\n",
       "      <td style=\"text-align: left\"></td>\n",
       "      <td style=\"text-align: left\">Euro. Nuc. Archive</td>\n",
       "      <td style=\"text-align: left\">Euro. Nuc. Archive</td>\n",
       "    </tr>\n",
       "    <tr style=\"text-align: left\">\n",
       "      <td style=\"text-align: left\">SRR6674866</td>\n",
       "      <td style=\"text-align: left\">MiSeq</td>\n",
       "      <td style=\"text-align: right\">1304</td>\n",
       "      <td style=\"text-align: right\">100</td>\n",
       "      <td style=\"text-align: right\">300</td>\n",
       "      <td style=\"text-align: right\">500</td>\n",
       "      <td style=\"text-align: left\">NISC</td>\n",
       "      <td style=\"text-align: left\"></td>\n",
       "      <td style=\"text-align: left\">Morgan Park</td>\n",
       "    </tr>\n",
       "    <tr style=\"text-align: left\">\n",
       "      <td style=\"text-align: left\">SRR1231704</td>\n",
       "      <td style=\"text-align: left\">MiSeq</td>\n",
       "      <td style=\"text-align: right\">56</td>\n",
       "      <td style=\"text-align: right\">98</td>\n",
       "      <td style=\"text-align: right\">233</td>\n",
       "      <td style=\"text-align: right\">368</td>\n",
       "      <td style=\"text-align: left\">Univ. of Tech. Sydney</td>\n",
       "      <td style=\"text-align: left\">Darling Lab</td>\n",
       "      <td style=\"text-align: left\">Aaron Darling</td>\n",
       "    </tr>\n",
       "    <tr style=\"text-align: left\">\n",
       "      <td style=\"text-align: left\">ERR271289</td>\n",
       "      <td style=\"text-align: left\">MiSeq</td>\n",
       "      <td style=\"text-align: right\">402</td>\n",
       "      <td style=\"text-align: right\">69</td>\n",
       "      <td style=\"text-align: right\">250</td>\n",
       "      <td style=\"text-align: right\">431</td>\n",
       "      <td style=\"text-align: left\">SC</td>\n",
       "      <td style=\"text-align: left\"></td>\n",
       "      <td style=\"text-align: left\"></td>\n",
       "    </tr>\n",
       "    <tr style=\"text-align: left\">\n",
       "      <td style=\"text-align: left\">DRR098843</td>\n",
       "      <td style=\"text-align: left\">MiSeq</td>\n",
       "      <td style=\"text-align: right\">321</td>\n",
       "      <td style=\"text-align: right\">64</td>\n",
       "      <td style=\"text-align: right\">282</td>\n",
       "      <td style=\"text-align: right\">500</td>\n",
       "      <td style=\"text-align: left\">NCGM</td>\n",
       "      <td style=\"text-align: left\">Dept. of Infectious Diseases</td>\n",
       "      <td style=\"text-align: left\">Dept. of Infectious Diseases</td>\n",
       "    </tr>\n",
       "    <tr style=\"text-align: left\">\n",
       "      <td style=\"text-align: left\">SRR639780</td>\n",
       "      <td style=\"text-align: left\">HiSeq 2000</td>\n",
       "      <td style=\"text-align: right\">8</td>\n",
       "      <td style=\"text-align: right\">63</td>\n",
       "      <td style=\"text-align: right\">101</td>\n",
       "      <td style=\"text-align: right\">139</td>\n",
       "      <td style=\"text-align: left\">BI</td>\n",
       "      <td style=\"text-align: left\">Genome Sequencing</td>\n",
       "      <td style=\"text-align: left\">prodinfo_submissions</td>\n",
       "    </tr>\n",
       "    <tr style=\"text-align: left\">\n",
       "      <td style=\"text-align: left\">SRR639983</td>\n",
       "      <td style=\"text-align: left\">HiSeq 2000</td>\n",
       "      <td style=\"text-align: right\">374</td>\n",
       "      <td style=\"text-align: right\">43</td>\n",
       "      <td style=\"text-align: right\">101</td>\n",
       "      <td style=\"text-align: right\">159</td>\n",
       "      <td style=\"text-align: left\">BI</td>\n",
       "      <td style=\"text-align: left\">Genome Sequencing</td>\n",
       "      <td style=\"text-align: left\">sra_submissions</td>\n",
       "    </tr>\n",
       "    <tr style=\"text-align: left\">\n",
       "      <td style=\"text-align: left\">ERR2534370</td>\n",
       "      <td style=\"text-align: left\">NextSeq 500</td>\n",
       "      <td style=\"text-align: right\">994</td>\n",
       "      <td style=\"text-align: right\">8</td>\n",
       "      <td style=\"text-align: right\">42</td>\n",
       "      <td style=\"text-align: right\">76</td>\n",
       "      <td style=\"text-align: left\">Dept. of Microbiology and Molecul…</td>\n",
       "      <td style=\"text-align: left\">Euro. Nuc. Archive</td>\n",
       "      <td style=\"text-align: left\">Euro. Nuc. Archive</td>\n",
       "    </tr>\n",
       "  </tbody>\n",
       "</table>"
      ],
      "text/plain": [
       "<IPython.core.display.HTML object>"
      ]
     },
     "execution_count": 131,
     "metadata": {},
     "output_type": "execute_result"
    }
   ],
   "source": [
    "display_runs(todo_diversified[:15], max_len=34).render()"
   ]
  },
  {
   "cell_type": "markdown",
   "metadata": {},
   "source": [
    "## Create some model-specific todo lists"
   ]
  },
  {
   "cell_type": "code",
   "execution_count": 138,
   "metadata": {},
   "outputs": [],
   "source": [
    "def filter_by_model(accessions, model, runs=RUNS):\n",
    "  for accession in accessions:\n",
    "    run = runs[accession]\n",
    "    this_model = rm_prefix(run.Model, 'Illumina ')\n",
    "    if this_model == model:\n",
    "      yield accession"
   ]
  },
  {
   "cell_type": "markdown",
   "metadata": {},
   "source": [
    "### <font style=\"background-color:pink\">Write to the files</font>"
   ]
  },
  {
   "cell_type": "code",
   "execution_count": 143,
   "metadata": {},
   "outputs": [
    {
     "name": "stdout",
     "output_type": "stream",
     "text": [
      "1268\n"
     ]
    }
   ],
   "source": [
    "with (MAIN_DIR/'meta/novaseq.todo.txt').open('w') as todo_file:\n",
    "  for i, accession in enumerate(filter_by_model(todo_diversified, 'NovaSeq 6000')):\n",
    "    print(accession, file=todo_file)\n",
    "print(i+1)"
   ]
  },
  {
   "cell_type": "code",
   "execution_count": 144,
   "metadata": {},
   "outputs": [
    {
     "name": "stdout",
     "output_type": "stream",
     "text": [
      "161\n"
     ]
    }
   ],
   "source": [
    "with (MAIN_DIR/'meta/miniseq.todo.txt').open('w') as todo_file:\n",
    "  for i, accession in enumerate(filter_by_model(todo_diversified, 'MiniSeq')):\n",
    "    print(accession, file=todo_file)\n",
    "print(i+1)"
   ]
  },
  {
   "cell_type": "markdown",
   "metadata": {},
   "source": [
    "# Misc management"
   ]
  },
  {
   "cell_type": "markdown",
   "metadata": {},
   "source": [
    "## Clear out launched.txt"
   ]
  },
  {
   "cell_type": "code",
   "execution_count": 221,
   "metadata": {},
   "outputs": [
    {
     "name": "stdout",
     "output_type": "stream",
     "text": [
      "1438 in  98 sec: 1357 done,  81 incomplete.\n"
     ]
    }
   ],
   "source": [
    "# Look at each run in launched.txt and check if it finished.\n",
    "new_done = []\n",
    "incomplete = []\n",
    "start = time.perf_counter()\n",
    "for i, accession in enumerate(launched, 1):\n",
    "  if is_done(MAIN_DIR/'runs'/accession):\n",
    "    new_done.append(accession)\n",
    "  else:\n",
    "    incomplete.append(accession)\n",
    "elapsed = time.perf_counter() - start\n",
    "print(f'{i:4d} in {round(elapsed):3d} sec: {len(new_done):4d} done, {len(incomplete):3d} incomplete.')"
   ]
  },
  {
   "cell_type": "markdown",
   "metadata": {},
   "source": [
    "### <font style=\"background-color:pink\">Write to the files</font>"
   ]
  },
  {
   "cell_type": "code",
   "execution_count": 219,
   "metadata": {},
   "outputs": [],
   "source": [
    "with (MAIN_DIR/'meta/done.txt').open('a') as done_file:\n",
    "  for accession in new_done:\n",
    "    print(accession, file=done_file)"
   ]
  },
  {
   "cell_type": "code",
   "execution_count": 220,
   "metadata": {},
   "outputs": [],
   "source": [
    "with (MAIN_DIR/'meta/launched.txt').open('w') as launched_file:\n",
    "  for accession in incomplete:\n",
    "    print(accession, file=launched_file)"
   ]
  },
  {
   "cell_type": "markdown",
   "metadata": {},
   "source": [
    "## Reset `launched.txt` to restart new run.\n",
    "- After realizing I hadn't updated the meta reference file."
   ]
  },
  {
   "cell_type": "code",
   "execution_count": 222,
   "metadata": {},
   "outputs": [],
   "source": [
    "launched = read_file_as_list(MAIN_DIR/'meta/launched.txt')\n",
    "novaseq_todo = read_file_as_list(MAIN_DIR/'meta/todo/novaseq.txt')\n",
    "miniseq_todo = read_file_as_list(MAIN_DIR/'meta/todo/miniseq.txt')"
   ]
  },
  {
   "cell_type": "code",
   "execution_count": 226,
   "metadata": {},
   "outputs": [
    {
     "data": {
      "text/plain": [
       "0"
      ]
     },
     "execution_count": 226,
     "metadata": {},
     "output_type": "execute_result"
    }
   ],
   "source": [
    "new_launched = subtract_lists(launched, novaseq_todo, miniseq_todo)\n",
    "len(new_launched)"
   ]
  },
  {
   "cell_type": "code",
   "execution_count": null,
   "metadata": {},
   "outputs": [],
   "source": []
  }
 ],
 "metadata": {
  "kernelspec": {
   "display_name": "Python 3",
   "language": "python",
   "name": "python3"
  },
  "language_info": {
   "codemirror_mode": {
    "name": "ipython",
    "version": 3
   },
   "file_extension": ".py",
   "mimetype": "text/x-python",
   "name": "python",
   "nbconvert_exporter": "python",
   "pygments_lexer": "ipython3",
   "version": "3.7.3"
  }
 },
 "nbformat": 4,
 "nbformat_minor": 2
}
